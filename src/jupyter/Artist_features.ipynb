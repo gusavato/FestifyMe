{
 "cells": [
  {
   "cell_type": "code",
   "execution_count": 14,
   "id": "67b5e766",
   "metadata": {},
   "outputs": [],
   "source": [
    "import pandas as pd\n",
    "import numpy as np\n",
    "import plotly.express as px"
   ]
  },
  {
   "cell_type": "markdown",
   "id": "33090534",
   "metadata": {},
   "source": [
    "En este Notebook, analizaremos el top 10 de canciones de cada artista. Revisaremos las características definadas por Spotify, y examinaremos si existe colinealidad para la inclusión de las mismas en los análisis posteriores"
   ]
  },
  {
   "cell_type": "code",
   "execution_count": 15,
   "id": "be5e416e",
   "metadata": {},
   "outputs": [],
   "source": [
    "pd.set_option('display.max_columns', None)"
   ]
  },
  {
   "cell_type": "code",
   "execution_count": 16,
   "id": "3c3ec12a",
   "metadata": {},
   "outputs": [],
   "source": [
    "tracks = pd.read_parquet('../../data/tracks_features.parquet')"
   ]
  },
  {
   "cell_type": "code",
   "execution_count": 17,
   "id": "379b9caf",
   "metadata": {
    "scrolled": false
   },
   "outputs": [
    {
     "name": "stdout",
     "output_type": "stream",
     "text": [
      "(15227, 23)\n"
     ]
    },
    {
     "data": {
      "text/html": [
       "<div>\n",
       "<style scoped>\n",
       "    .dataframe tbody tr th:only-of-type {\n",
       "        vertical-align: middle;\n",
       "    }\n",
       "\n",
       "    .dataframe tbody tr th {\n",
       "        vertical-align: top;\n",
       "    }\n",
       "\n",
       "    .dataframe thead th {\n",
       "        text-align: right;\n",
       "    }\n",
       "</style>\n",
       "<table border=\"1\" class=\"dataframe\">\n",
       "  <thead>\n",
       "    <tr style=\"text-align: right;\">\n",
       "      <th></th>\n",
       "      <th>Track</th>\n",
       "      <th>Id_Track</th>\n",
       "      <th>Bands</th>\n",
       "      <th>Id_Band_Spotify</th>\n",
       "      <th>Track_Popularity</th>\n",
       "      <th>Explicit</th>\n",
       "      <th>Url</th>\n",
       "      <th>Api_Href</th>\n",
       "      <th>Api_Uri</th>\n",
       "      <th>Danceability</th>\n",
       "      <th>Energy</th>\n",
       "      <th>Key</th>\n",
       "      <th>Loudness</th>\n",
       "      <th>Mode</th>\n",
       "      <th>Speechiness</th>\n",
       "      <th>Acousticness</th>\n",
       "      <th>Instrumentalness</th>\n",
       "      <th>Liveness</th>\n",
       "      <th>Valence</th>\n",
       "      <th>Tempo</th>\n",
       "      <th>Analysis_Url</th>\n",
       "      <th>Duration_Ms</th>\n",
       "      <th>Time_Signature</th>\n",
       "    </tr>\n",
       "  </thead>\n",
       "  <tbody>\n",
       "    <tr>\n",
       "      <th>0</th>\n",
       "      <td>Its Fun but Its Wrong</td>\n",
       "      <td>2nPQgOvjmry6OV1rZiXHcf</td>\n",
       "      <td>La Perra Blanco</td>\n",
       "      <td>79tFt6t6vIIoKUOdjj6MsB</td>\n",
       "      <td>23</td>\n",
       "      <td>False</td>\n",
       "      <td>https://open.spotify.com/track/2nPQgOvjmry6OV1...</td>\n",
       "      <td>https://api.spotify.com/v1/tracks/2nPQgOvjmry6...</td>\n",
       "      <td>spotify:track:2nPQgOvjmry6OV1rZiXHcf</td>\n",
       "      <td>0.567</td>\n",
       "      <td>0.960</td>\n",
       "      <td>10.0</td>\n",
       "      <td>-5.004</td>\n",
       "      <td>1.0</td>\n",
       "      <td>0.0623</td>\n",
       "      <td>0.17600</td>\n",
       "      <td>0.000009</td>\n",
       "      <td>0.0858</td>\n",
       "      <td>0.901</td>\n",
       "      <td>110.006</td>\n",
       "      <td>https://api.spotify.com/v1/audio-analysis/2nPQ...</td>\n",
       "      <td>131072.0</td>\n",
       "      <td>4.0</td>\n",
       "    </tr>\n",
       "    <tr>\n",
       "      <th>1</th>\n",
       "      <td>Rock Me Babe</td>\n",
       "      <td>0Zdvk4LSyroWCn0Aa9w16U</td>\n",
       "      <td>La Perra Blanco</td>\n",
       "      <td>79tFt6t6vIIoKUOdjj6MsB</td>\n",
       "      <td>21</td>\n",
       "      <td>False</td>\n",
       "      <td>https://open.spotify.com/track/0Zdvk4LSyroWCn0...</td>\n",
       "      <td>https://api.spotify.com/v1/tracks/0Zdvk4LSyroW...</td>\n",
       "      <td>spotify:track:0Zdvk4LSyroWCn0Aa9w16U</td>\n",
       "      <td>0.515</td>\n",
       "      <td>0.849</td>\n",
       "      <td>7.0</td>\n",
       "      <td>-5.818</td>\n",
       "      <td>0.0</td>\n",
       "      <td>0.0284</td>\n",
       "      <td>0.28200</td>\n",
       "      <td>0.000097</td>\n",
       "      <td>0.1070</td>\n",
       "      <td>0.834</td>\n",
       "      <td>102.084</td>\n",
       "      <td>https://api.spotify.com/v1/audio-analysis/0Zdv...</td>\n",
       "      <td>169229.0</td>\n",
       "      <td>4.0</td>\n",
       "    </tr>\n",
       "    <tr>\n",
       "      <th>2</th>\n",
       "      <td>Doggie Rag</td>\n",
       "      <td>2bxXH2me3cLW1RyqmcpJdN</td>\n",
       "      <td>La Perra Blanco</td>\n",
       "      <td>79tFt6t6vIIoKUOdjj6MsB</td>\n",
       "      <td>20</td>\n",
       "      <td>False</td>\n",
       "      <td>https://open.spotify.com/track/2bxXH2me3cLW1Ry...</td>\n",
       "      <td>https://api.spotify.com/v1/tracks/2bxXH2me3cLW...</td>\n",
       "      <td>spotify:track:2bxXH2me3cLW1RyqmcpJdN</td>\n",
       "      <td>0.388</td>\n",
       "      <td>0.915</td>\n",
       "      <td>1.0</td>\n",
       "      <td>-4.164</td>\n",
       "      <td>0.0</td>\n",
       "      <td>0.0664</td>\n",
       "      <td>0.00570</td>\n",
       "      <td>0.911000</td>\n",
       "      <td>0.1710</td>\n",
       "      <td>0.794</td>\n",
       "      <td>160.074</td>\n",
       "      <td>https://api.spotify.com/v1/audio-analysis/2bxX...</td>\n",
       "      <td>72039.0</td>\n",
       "      <td>4.0</td>\n",
       "    </tr>\n",
       "    <tr>\n",
       "      <th>3</th>\n",
       "      <td>Won't You Come On</td>\n",
       "      <td>4HsKBxTeyG4cY0tRFhGIrO</td>\n",
       "      <td>La Perra Blanco</td>\n",
       "      <td>79tFt6t6vIIoKUOdjj6MsB</td>\n",
       "      <td>20</td>\n",
       "      <td>False</td>\n",
       "      <td>https://open.spotify.com/track/4HsKBxTeyG4cY0t...</td>\n",
       "      <td>https://api.spotify.com/v1/tracks/4HsKBxTeyG4c...</td>\n",
       "      <td>spotify:track:4HsKBxTeyG4cY0tRFhGIrO</td>\n",
       "      <td>0.350</td>\n",
       "      <td>0.904</td>\n",
       "      <td>0.0</td>\n",
       "      <td>-4.367</td>\n",
       "      <td>0.0</td>\n",
       "      <td>0.0407</td>\n",
       "      <td>0.18700</td>\n",
       "      <td>0.034400</td>\n",
       "      <td>0.2570</td>\n",
       "      <td>0.656</td>\n",
       "      <td>201.893</td>\n",
       "      <td>https://api.spotify.com/v1/audio-analysis/4HsK...</td>\n",
       "      <td>162414.0</td>\n",
       "      <td>4.0</td>\n",
       "    </tr>\n",
       "    <tr>\n",
       "      <th>4</th>\n",
       "      <td>Bop &amp; Shake</td>\n",
       "      <td>4XOPWNniVosSmcM9UEukzm</td>\n",
       "      <td>La Perra Blanco</td>\n",
       "      <td>79tFt6t6vIIoKUOdjj6MsB</td>\n",
       "      <td>19</td>\n",
       "      <td>False</td>\n",
       "      <td>https://open.spotify.com/track/4XOPWNniVosSmcM...</td>\n",
       "      <td>https://api.spotify.com/v1/tracks/4XOPWNniVosS...</td>\n",
       "      <td>spotify:track:4XOPWNniVosSmcM9UEukzm</td>\n",
       "      <td>0.516</td>\n",
       "      <td>0.929</td>\n",
       "      <td>7.0</td>\n",
       "      <td>-5.016</td>\n",
       "      <td>1.0</td>\n",
       "      <td>0.0682</td>\n",
       "      <td>0.41000</td>\n",
       "      <td>0.158000</td>\n",
       "      <td>0.0691</td>\n",
       "      <td>0.829</td>\n",
       "      <td>110.040</td>\n",
       "      <td>https://api.spotify.com/v1/audio-analysis/4XOP...</td>\n",
       "      <td>208449.0</td>\n",
       "      <td>4.0</td>\n",
       "    </tr>\n",
       "    <tr>\n",
       "      <th>5</th>\n",
       "      <td>My Teeth Are Falling</td>\n",
       "      <td>7h6Qs6tChPcx1siRCgWqgk</td>\n",
       "      <td>La Perra Blanco</td>\n",
       "      <td>79tFt6t6vIIoKUOdjj6MsB</td>\n",
       "      <td>17</td>\n",
       "      <td>False</td>\n",
       "      <td>https://open.spotify.com/track/7h6Qs6tChPcx1si...</td>\n",
       "      <td>https://api.spotify.com/v1/tracks/7h6Qs6tChPcx...</td>\n",
       "      <td>spotify:track:7h6Qs6tChPcx1siRCgWqgk</td>\n",
       "      <td>0.552</td>\n",
       "      <td>0.951</td>\n",
       "      <td>1.0</td>\n",
       "      <td>-2.779</td>\n",
       "      <td>1.0</td>\n",
       "      <td>0.0416</td>\n",
       "      <td>0.48600</td>\n",
       "      <td>0.006950</td>\n",
       "      <td>0.0614</td>\n",
       "      <td>0.919</td>\n",
       "      <td>121.035</td>\n",
       "      <td>https://api.spotify.com/v1/audio-analysis/7h6Q...</td>\n",
       "      <td>140500.0</td>\n",
       "      <td>3.0</td>\n",
       "    </tr>\n",
       "    <tr>\n",
       "      <th>6</th>\n",
       "      <td>Sleeping &amp; Smoking</td>\n",
       "      <td>5NYjvX7B2APTKvOnRikjtL</td>\n",
       "      <td>La Perra Blanco</td>\n",
       "      <td>79tFt6t6vIIoKUOdjj6MsB</td>\n",
       "      <td>16</td>\n",
       "      <td>False</td>\n",
       "      <td>https://open.spotify.com/track/5NYjvX7B2APTKvO...</td>\n",
       "      <td>https://api.spotify.com/v1/tracks/5NYjvX7B2APT...</td>\n",
       "      <td>spotify:track:5NYjvX7B2APTKvOnRikjtL</td>\n",
       "      <td>0.368</td>\n",
       "      <td>0.870</td>\n",
       "      <td>0.0</td>\n",
       "      <td>-5.303</td>\n",
       "      <td>0.0</td>\n",
       "      <td>0.0518</td>\n",
       "      <td>0.04400</td>\n",
       "      <td>0.000643</td>\n",
       "      <td>0.0624</td>\n",
       "      <td>0.912</td>\n",
       "      <td>111.370</td>\n",
       "      <td>https://api.spotify.com/v1/audio-analysis/5NYj...</td>\n",
       "      <td>187305.0</td>\n",
       "      <td>3.0</td>\n",
       "    </tr>\n",
       "    <tr>\n",
       "      <th>7</th>\n",
       "      <td>What Is Wrong with You</td>\n",
       "      <td>1suqkdbZR5K16n6FOiKnJv</td>\n",
       "      <td>La Perra Blanco</td>\n",
       "      <td>79tFt6t6vIIoKUOdjj6MsB</td>\n",
       "      <td>16</td>\n",
       "      <td>False</td>\n",
       "      <td>https://open.spotify.com/track/1suqkdbZR5K16n6...</td>\n",
       "      <td>https://api.spotify.com/v1/tracks/1suqkdbZR5K1...</td>\n",
       "      <td>spotify:track:1suqkdbZR5K16n6FOiKnJv</td>\n",
       "      <td>0.475</td>\n",
       "      <td>0.818</td>\n",
       "      <td>0.0</td>\n",
       "      <td>-5.127</td>\n",
       "      <td>1.0</td>\n",
       "      <td>0.0465</td>\n",
       "      <td>0.00308</td>\n",
       "      <td>0.000330</td>\n",
       "      <td>0.0940</td>\n",
       "      <td>0.700</td>\n",
       "      <td>96.856</td>\n",
       "      <td>https://api.spotify.com/v1/audio-analysis/1suq...</td>\n",
       "      <td>143397.0</td>\n",
       "      <td>4.0</td>\n",
       "    </tr>\n",
       "    <tr>\n",
       "      <th>8</th>\n",
       "      <td>Sweet Daddy Lips</td>\n",
       "      <td>4bDQBoLwuvnBWhvkmBXPKz</td>\n",
       "      <td>La Perra Blanco</td>\n",
       "      <td>79tFt6t6vIIoKUOdjj6MsB</td>\n",
       "      <td>16</td>\n",
       "      <td>False</td>\n",
       "      <td>https://open.spotify.com/track/4bDQBoLwuvnBWhv...</td>\n",
       "      <td>https://api.spotify.com/v1/tracks/4bDQBoLwuvnB...</td>\n",
       "      <td>spotify:track:4bDQBoLwuvnBWhvkmBXPKz</td>\n",
       "      <td>0.573</td>\n",
       "      <td>0.957</td>\n",
       "      <td>1.0</td>\n",
       "      <td>-2.725</td>\n",
       "      <td>0.0</td>\n",
       "      <td>0.0741</td>\n",
       "      <td>0.47800</td>\n",
       "      <td>0.000000</td>\n",
       "      <td>0.3160</td>\n",
       "      <td>0.796</td>\n",
       "      <td>119.376</td>\n",
       "      <td>https://api.spotify.com/v1/audio-analysis/4bDQ...</td>\n",
       "      <td>142500.0</td>\n",
       "      <td>4.0</td>\n",
       "    </tr>\n",
       "    <tr>\n",
       "      <th>9</th>\n",
       "      <td>Dream</td>\n",
       "      <td>1nmr5kzEKl1gN7o6oONVZa</td>\n",
       "      <td>La Perra Blanco</td>\n",
       "      <td>79tFt6t6vIIoKUOdjj6MsB</td>\n",
       "      <td>16</td>\n",
       "      <td>False</td>\n",
       "      <td>https://open.spotify.com/track/1nmr5kzEKl1gN7o...</td>\n",
       "      <td>https://api.spotify.com/v1/tracks/1nmr5kzEKl1g...</td>\n",
       "      <td>spotify:track:1nmr5kzEKl1gN7o6oONVZa</td>\n",
       "      <td>0.688</td>\n",
       "      <td>0.878</td>\n",
       "      <td>7.0</td>\n",
       "      <td>-2.552</td>\n",
       "      <td>1.0</td>\n",
       "      <td>0.0614</td>\n",
       "      <td>0.54200</td>\n",
       "      <td>0.000003</td>\n",
       "      <td>0.0879</td>\n",
       "      <td>0.962</td>\n",
       "      <td>113.743</td>\n",
       "      <td>https://api.spotify.com/v1/audio-analysis/1nmr...</td>\n",
       "      <td>135000.0</td>\n",
       "      <td>4.0</td>\n",
       "    </tr>\n",
       "  </tbody>\n",
       "</table>\n",
       "</div>"
      ],
      "text/plain": [
       "                    Track                Id_Track            Bands   \n",
       "0   Its Fun but Its Wrong  2nPQgOvjmry6OV1rZiXHcf  La Perra Blanco  \\\n",
       "1            Rock Me Babe  0Zdvk4LSyroWCn0Aa9w16U  La Perra Blanco   \n",
       "2              Doggie Rag  2bxXH2me3cLW1RyqmcpJdN  La Perra Blanco   \n",
       "3       Won't You Come On  4HsKBxTeyG4cY0tRFhGIrO  La Perra Blanco   \n",
       "4             Bop & Shake  4XOPWNniVosSmcM9UEukzm  La Perra Blanco   \n",
       "5    My Teeth Are Falling  7h6Qs6tChPcx1siRCgWqgk  La Perra Blanco   \n",
       "6      Sleeping & Smoking  5NYjvX7B2APTKvOnRikjtL  La Perra Blanco   \n",
       "7  What Is Wrong with You  1suqkdbZR5K16n6FOiKnJv  La Perra Blanco   \n",
       "8        Sweet Daddy Lips  4bDQBoLwuvnBWhvkmBXPKz  La Perra Blanco   \n",
       "9                   Dream  1nmr5kzEKl1gN7o6oONVZa  La Perra Blanco   \n",
       "\n",
       "          Id_Band_Spotify  Track_Popularity  Explicit   \n",
       "0  79tFt6t6vIIoKUOdjj6MsB                23     False  \\\n",
       "1  79tFt6t6vIIoKUOdjj6MsB                21     False   \n",
       "2  79tFt6t6vIIoKUOdjj6MsB                20     False   \n",
       "3  79tFt6t6vIIoKUOdjj6MsB                20     False   \n",
       "4  79tFt6t6vIIoKUOdjj6MsB                19     False   \n",
       "5  79tFt6t6vIIoKUOdjj6MsB                17     False   \n",
       "6  79tFt6t6vIIoKUOdjj6MsB                16     False   \n",
       "7  79tFt6t6vIIoKUOdjj6MsB                16     False   \n",
       "8  79tFt6t6vIIoKUOdjj6MsB                16     False   \n",
       "9  79tFt6t6vIIoKUOdjj6MsB                16     False   \n",
       "\n",
       "                                                 Url   \n",
       "0  https://open.spotify.com/track/2nPQgOvjmry6OV1...  \\\n",
       "1  https://open.spotify.com/track/0Zdvk4LSyroWCn0...   \n",
       "2  https://open.spotify.com/track/2bxXH2me3cLW1Ry...   \n",
       "3  https://open.spotify.com/track/4HsKBxTeyG4cY0t...   \n",
       "4  https://open.spotify.com/track/4XOPWNniVosSmcM...   \n",
       "5  https://open.spotify.com/track/7h6Qs6tChPcx1si...   \n",
       "6  https://open.spotify.com/track/5NYjvX7B2APTKvO...   \n",
       "7  https://open.spotify.com/track/1suqkdbZR5K16n6...   \n",
       "8  https://open.spotify.com/track/4bDQBoLwuvnBWhv...   \n",
       "9  https://open.spotify.com/track/1nmr5kzEKl1gN7o...   \n",
       "\n",
       "                                            Api_Href   \n",
       "0  https://api.spotify.com/v1/tracks/2nPQgOvjmry6...  \\\n",
       "1  https://api.spotify.com/v1/tracks/0Zdvk4LSyroW...   \n",
       "2  https://api.spotify.com/v1/tracks/2bxXH2me3cLW...   \n",
       "3  https://api.spotify.com/v1/tracks/4HsKBxTeyG4c...   \n",
       "4  https://api.spotify.com/v1/tracks/4XOPWNniVosS...   \n",
       "5  https://api.spotify.com/v1/tracks/7h6Qs6tChPcx...   \n",
       "6  https://api.spotify.com/v1/tracks/5NYjvX7B2APT...   \n",
       "7  https://api.spotify.com/v1/tracks/1suqkdbZR5K1...   \n",
       "8  https://api.spotify.com/v1/tracks/4bDQBoLwuvnB...   \n",
       "9  https://api.spotify.com/v1/tracks/1nmr5kzEKl1g...   \n",
       "\n",
       "                                Api_Uri  Danceability  Energy   Key  Loudness   \n",
       "0  spotify:track:2nPQgOvjmry6OV1rZiXHcf         0.567   0.960  10.0    -5.004  \\\n",
       "1  spotify:track:0Zdvk4LSyroWCn0Aa9w16U         0.515   0.849   7.0    -5.818   \n",
       "2  spotify:track:2bxXH2me3cLW1RyqmcpJdN         0.388   0.915   1.0    -4.164   \n",
       "3  spotify:track:4HsKBxTeyG4cY0tRFhGIrO         0.350   0.904   0.0    -4.367   \n",
       "4  spotify:track:4XOPWNniVosSmcM9UEukzm         0.516   0.929   7.0    -5.016   \n",
       "5  spotify:track:7h6Qs6tChPcx1siRCgWqgk         0.552   0.951   1.0    -2.779   \n",
       "6  spotify:track:5NYjvX7B2APTKvOnRikjtL         0.368   0.870   0.0    -5.303   \n",
       "7  spotify:track:1suqkdbZR5K16n6FOiKnJv         0.475   0.818   0.0    -5.127   \n",
       "8  spotify:track:4bDQBoLwuvnBWhvkmBXPKz         0.573   0.957   1.0    -2.725   \n",
       "9  spotify:track:1nmr5kzEKl1gN7o6oONVZa         0.688   0.878   7.0    -2.552   \n",
       "\n",
       "   Mode  Speechiness  Acousticness  Instrumentalness  Liveness  Valence   \n",
       "0   1.0       0.0623       0.17600          0.000009    0.0858    0.901  \\\n",
       "1   0.0       0.0284       0.28200          0.000097    0.1070    0.834   \n",
       "2   0.0       0.0664       0.00570          0.911000    0.1710    0.794   \n",
       "3   0.0       0.0407       0.18700          0.034400    0.2570    0.656   \n",
       "4   1.0       0.0682       0.41000          0.158000    0.0691    0.829   \n",
       "5   1.0       0.0416       0.48600          0.006950    0.0614    0.919   \n",
       "6   0.0       0.0518       0.04400          0.000643    0.0624    0.912   \n",
       "7   1.0       0.0465       0.00308          0.000330    0.0940    0.700   \n",
       "8   0.0       0.0741       0.47800          0.000000    0.3160    0.796   \n",
       "9   1.0       0.0614       0.54200          0.000003    0.0879    0.962   \n",
       "\n",
       "     Tempo                                       Analysis_Url  Duration_Ms   \n",
       "0  110.006  https://api.spotify.com/v1/audio-analysis/2nPQ...     131072.0  \\\n",
       "1  102.084  https://api.spotify.com/v1/audio-analysis/0Zdv...     169229.0   \n",
       "2  160.074  https://api.spotify.com/v1/audio-analysis/2bxX...      72039.0   \n",
       "3  201.893  https://api.spotify.com/v1/audio-analysis/4HsK...     162414.0   \n",
       "4  110.040  https://api.spotify.com/v1/audio-analysis/4XOP...     208449.0   \n",
       "5  121.035  https://api.spotify.com/v1/audio-analysis/7h6Q...     140500.0   \n",
       "6  111.370  https://api.spotify.com/v1/audio-analysis/5NYj...     187305.0   \n",
       "7   96.856  https://api.spotify.com/v1/audio-analysis/1suq...     143397.0   \n",
       "8  119.376  https://api.spotify.com/v1/audio-analysis/4bDQ...     142500.0   \n",
       "9  113.743  https://api.spotify.com/v1/audio-analysis/1nmr...     135000.0   \n",
       "\n",
       "   Time_Signature  \n",
       "0             4.0  \n",
       "1             4.0  \n",
       "2             4.0  \n",
       "3             4.0  \n",
       "4             4.0  \n",
       "5             3.0  \n",
       "6             3.0  \n",
       "7             4.0  \n",
       "8             4.0  \n",
       "9             4.0  "
      ]
     },
     "execution_count": 17,
     "metadata": {},
     "output_type": "execute_result"
    }
   ],
   "source": [
    "print(tracks.shape)\n",
    "tracks.head(10)"
   ]
  },
  {
   "cell_type": "code",
   "execution_count": 18,
   "id": "63df2eee",
   "metadata": {},
   "outputs": [],
   "source": [
    "def corr_plot(df):\n",
    "    # Creamos matriz de correlación\n",
    "    corr = df.corr()\n",
    "\n",
    "    # Creamos máscara\n",
    "    mask = np.triu(np.ones_like(corr,dtype=bool))\n",
    "    data = corr[~pd.DataFrame(mask,index=corr.index,columns=corr.columns)]\n",
    "\n",
    "    # Incializamos figura\n",
    "    return px.imshow(abs(data).round(2),text_auto=True,color_continuous_scale='reds').update_layout(width=900,height=700)"
   ]
  },
  {
   "cell_type": "code",
   "execution_count": 19,
   "id": "4ff0405e",
   "metadata": {},
   "outputs": [],
   "source": [
    "fig = corr_plot(tracks[['Track_Popularity',\n",
    "                        'Explicit',\n",
    "                        'Danceability',\n",
    "                        'Energy','Key',\n",
    "                        'Loudness',\n",
    "                        'Mode',\n",
    "                        'Speechiness',\n",
    "                        'Acousticness',\n",
    "                        'Instrumentalness',\n",
    "                        'Liveness',\n",
    "                        'Valence',\n",
    "                        'Tempo',\n",
    "                        'Duration_Ms',\n",
    "                        'Time_Signature']])"
   ]
  },
  {
   "cell_type": "markdown",
   "id": "2c0296f8",
   "metadata": {},
   "source": [
    "<center>\n",
    "    <img src=\"../../images/corr.png\" alt=\"Alt text\">\n",
    "</center>\n"
   ]
  },
  {
   "cell_type": "code",
   "execution_count": 20,
   "id": "5a6ab21f",
   "metadata": {},
   "outputs": [
    {
     "data": {
      "application/vnd.plotly.v1+json": {
       "config": {
        "plotlyServerURL": "https://plot.ly"
       },
       "data": [
        {
         "coloraxis": "coloraxis",
         "hovertemplate": "x: %{x}<br>y: %{y}<br>color: %{z}<extra></extra>",
         "name": "0",
         "texttemplate": "%{z}",
         "type": "heatmap",
         "x": [
          "Track_Popularity",
          "Explicit",
          "Danceability",
          "Energy",
          "Key",
          "Loudness",
          "Mode",
          "Speechiness",
          "Acousticness",
          "Instrumentalness",
          "Liveness",
          "Valence",
          "Tempo",
          "Duration_Ms",
          "Time_Signature"
         ],
         "xaxis": "x",
         "y": [
          "Track_Popularity",
          "Explicit",
          "Danceability",
          "Energy",
          "Key",
          "Loudness",
          "Mode",
          "Speechiness",
          "Acousticness",
          "Instrumentalness",
          "Liveness",
          "Valence",
          "Tempo",
          "Duration_Ms",
          "Time_Signature"
         ],
         "yaxis": "y",
         "z": [
          [
           null,
           null,
           null,
           null,
           null,
           null,
           null,
           null,
           null,
           null,
           null,
           null,
           null,
           null,
           null
          ],
          [
           0.13,
           null,
           null,
           null,
           null,
           null,
           null,
           null,
           null,
           null,
           null,
           null,
           null,
           null,
           null
          ],
          [
           0.19,
           0.1,
           null,
           null,
           null,
           null,
           null,
           null,
           null,
           null,
           null,
           null,
           null,
           null,
           null
          ],
          [
           0.03,
           0.03,
           0.06,
           null,
           null,
           null,
           null,
           null,
           null,
           null,
           null,
           null,
           null,
           null,
           null
          ],
          [
           0.01,
           0.01,
           0.02,
           0.02,
           null,
           null,
           null,
           null,
           null,
           null,
           null,
           null,
           null,
           null,
           null
          ],
          [
           0.2,
           0.08,
           0.03,
           0.72,
           0.01,
           null,
           null,
           null,
           null,
           null,
           null,
           null,
           null,
           null,
           null
          ],
          [
           0.03,
           0.02,
           0.05,
           0.01,
           0.18,
           0.02,
           null,
           null,
           null,
           null,
           null,
           null,
           null,
           null,
           null
          ],
          [
           0.05,
           0.24,
           0.11,
           0.07,
           0.02,
           0.07,
           0.06,
           null,
           null,
           null,
           null,
           null,
           null,
           null,
           null
          ],
          [
           0.01,
           0.02,
           0,
           0.68,
           0.01,
           0.52,
           0.02,
           0.03,
           null,
           null,
           null,
           null,
           null,
           null,
           null
          ],
          [
           0.24,
           0.15,
           0.07,
           0.05,
           0.01,
           0.34,
           0.03,
           0.13,
           0,
           null,
           null,
           null,
           null,
           null,
           null
          ],
          [
           0.01,
           0.04,
           0.13,
           0.18,
           0.01,
           0.12,
           0.03,
           0.07,
           0.09,
           0.06,
           null,
           null,
           null,
           null,
           null
          ],
          [
           0.12,
           0.05,
           0.4,
           0.18,
           0.02,
           0.22,
           0.03,
           0.02,
           0.06,
           0.31,
           0.01,
           null,
           null,
           null,
           null
          ],
          [
           0.04,
           0.04,
           0.16,
           0.24,
           0.01,
           0.18,
           0.02,
           0.03,
           0.2,
           0.02,
           0.03,
           0.02,
           null,
           null,
           null
          ],
          [
           0.09,
           0.08,
           0.05,
           0.04,
           0.02,
           0.08,
           0.03,
           0.07,
           0.08,
           0.2,
           0.01,
           0.14,
           0.01,
           null,
           null
          ],
          [
           0.05,
           0.04,
           0.15,
           0.14,
           0.01,
           0.12,
           0.02,
           0.02,
           0.13,
           0.04,
           0,
           0.1,
           0.02,
           0,
           null
          ]
         ]
        }
       ],
       "layout": {
        "coloraxis": {
         "colorscale": [
          [
           0,
           "rgb(255,245,240)"
          ],
          [
           0.125,
           "rgb(254,224,210)"
          ],
          [
           0.25,
           "rgb(252,187,161)"
          ],
          [
           0.375,
           "rgb(252,146,114)"
          ],
          [
           0.5,
           "rgb(251,106,74)"
          ],
          [
           0.625,
           "rgb(239,59,44)"
          ],
          [
           0.75,
           "rgb(203,24,29)"
          ],
          [
           0.875,
           "rgb(165,15,21)"
          ],
          [
           1,
           "rgb(103,0,13)"
          ]
         ]
        },
        "height": 700,
        "margin": {
         "t": 60
        },
        "template": {
         "data": {
          "bar": [
           {
            "error_x": {
             "color": "#2a3f5f"
            },
            "error_y": {
             "color": "#2a3f5f"
            },
            "marker": {
             "line": {
              "color": "#E5ECF6",
              "width": 0.5
             },
             "pattern": {
              "fillmode": "overlay",
              "size": 10,
              "solidity": 0.2
             }
            },
            "type": "bar"
           }
          ],
          "barpolar": [
           {
            "marker": {
             "line": {
              "color": "#E5ECF6",
              "width": 0.5
             },
             "pattern": {
              "fillmode": "overlay",
              "size": 10,
              "solidity": 0.2
             }
            },
            "type": "barpolar"
           }
          ],
          "carpet": [
           {
            "aaxis": {
             "endlinecolor": "#2a3f5f",
             "gridcolor": "white",
             "linecolor": "white",
             "minorgridcolor": "white",
             "startlinecolor": "#2a3f5f"
            },
            "baxis": {
             "endlinecolor": "#2a3f5f",
             "gridcolor": "white",
             "linecolor": "white",
             "minorgridcolor": "white",
             "startlinecolor": "#2a3f5f"
            },
            "type": "carpet"
           }
          ],
          "choropleth": [
           {
            "colorbar": {
             "outlinewidth": 0,
             "ticks": ""
            },
            "type": "choropleth"
           }
          ],
          "contour": [
           {
            "colorbar": {
             "outlinewidth": 0,
             "ticks": ""
            },
            "colorscale": [
             [
              0,
              "#0d0887"
             ],
             [
              0.1111111111111111,
              "#46039f"
             ],
             [
              0.2222222222222222,
              "#7201a8"
             ],
             [
              0.3333333333333333,
              "#9c179e"
             ],
             [
              0.4444444444444444,
              "#bd3786"
             ],
             [
              0.5555555555555556,
              "#d8576b"
             ],
             [
              0.6666666666666666,
              "#ed7953"
             ],
             [
              0.7777777777777778,
              "#fb9f3a"
             ],
             [
              0.8888888888888888,
              "#fdca26"
             ],
             [
              1,
              "#f0f921"
             ]
            ],
            "type": "contour"
           }
          ],
          "contourcarpet": [
           {
            "colorbar": {
             "outlinewidth": 0,
             "ticks": ""
            },
            "type": "contourcarpet"
           }
          ],
          "heatmap": [
           {
            "colorbar": {
             "outlinewidth": 0,
             "ticks": ""
            },
            "colorscale": [
             [
              0,
              "#0d0887"
             ],
             [
              0.1111111111111111,
              "#46039f"
             ],
             [
              0.2222222222222222,
              "#7201a8"
             ],
             [
              0.3333333333333333,
              "#9c179e"
             ],
             [
              0.4444444444444444,
              "#bd3786"
             ],
             [
              0.5555555555555556,
              "#d8576b"
             ],
             [
              0.6666666666666666,
              "#ed7953"
             ],
             [
              0.7777777777777778,
              "#fb9f3a"
             ],
             [
              0.8888888888888888,
              "#fdca26"
             ],
             [
              1,
              "#f0f921"
             ]
            ],
            "type": "heatmap"
           }
          ],
          "heatmapgl": [
           {
            "colorbar": {
             "outlinewidth": 0,
             "ticks": ""
            },
            "colorscale": [
             [
              0,
              "#0d0887"
             ],
             [
              0.1111111111111111,
              "#46039f"
             ],
             [
              0.2222222222222222,
              "#7201a8"
             ],
             [
              0.3333333333333333,
              "#9c179e"
             ],
             [
              0.4444444444444444,
              "#bd3786"
             ],
             [
              0.5555555555555556,
              "#d8576b"
             ],
             [
              0.6666666666666666,
              "#ed7953"
             ],
             [
              0.7777777777777778,
              "#fb9f3a"
             ],
             [
              0.8888888888888888,
              "#fdca26"
             ],
             [
              1,
              "#f0f921"
             ]
            ],
            "type": "heatmapgl"
           }
          ],
          "histogram": [
           {
            "marker": {
             "pattern": {
              "fillmode": "overlay",
              "size": 10,
              "solidity": 0.2
             }
            },
            "type": "histogram"
           }
          ],
          "histogram2d": [
           {
            "colorbar": {
             "outlinewidth": 0,
             "ticks": ""
            },
            "colorscale": [
             [
              0,
              "#0d0887"
             ],
             [
              0.1111111111111111,
              "#46039f"
             ],
             [
              0.2222222222222222,
              "#7201a8"
             ],
             [
              0.3333333333333333,
              "#9c179e"
             ],
             [
              0.4444444444444444,
              "#bd3786"
             ],
             [
              0.5555555555555556,
              "#d8576b"
             ],
             [
              0.6666666666666666,
              "#ed7953"
             ],
             [
              0.7777777777777778,
              "#fb9f3a"
             ],
             [
              0.8888888888888888,
              "#fdca26"
             ],
             [
              1,
              "#f0f921"
             ]
            ],
            "type": "histogram2d"
           }
          ],
          "histogram2dcontour": [
           {
            "colorbar": {
             "outlinewidth": 0,
             "ticks": ""
            },
            "colorscale": [
             [
              0,
              "#0d0887"
             ],
             [
              0.1111111111111111,
              "#46039f"
             ],
             [
              0.2222222222222222,
              "#7201a8"
             ],
             [
              0.3333333333333333,
              "#9c179e"
             ],
             [
              0.4444444444444444,
              "#bd3786"
             ],
             [
              0.5555555555555556,
              "#d8576b"
             ],
             [
              0.6666666666666666,
              "#ed7953"
             ],
             [
              0.7777777777777778,
              "#fb9f3a"
             ],
             [
              0.8888888888888888,
              "#fdca26"
             ],
             [
              1,
              "#f0f921"
             ]
            ],
            "type": "histogram2dcontour"
           }
          ],
          "mesh3d": [
           {
            "colorbar": {
             "outlinewidth": 0,
             "ticks": ""
            },
            "type": "mesh3d"
           }
          ],
          "parcoords": [
           {
            "line": {
             "colorbar": {
              "outlinewidth": 0,
              "ticks": ""
             }
            },
            "type": "parcoords"
           }
          ],
          "pie": [
           {
            "automargin": true,
            "type": "pie"
           }
          ],
          "scatter": [
           {
            "fillpattern": {
             "fillmode": "overlay",
             "size": 10,
             "solidity": 0.2
            },
            "type": "scatter"
           }
          ],
          "scatter3d": [
           {
            "line": {
             "colorbar": {
              "outlinewidth": 0,
              "ticks": ""
             }
            },
            "marker": {
             "colorbar": {
              "outlinewidth": 0,
              "ticks": ""
             }
            },
            "type": "scatter3d"
           }
          ],
          "scattercarpet": [
           {
            "marker": {
             "colorbar": {
              "outlinewidth": 0,
              "ticks": ""
             }
            },
            "type": "scattercarpet"
           }
          ],
          "scattergeo": [
           {
            "marker": {
             "colorbar": {
              "outlinewidth": 0,
              "ticks": ""
             }
            },
            "type": "scattergeo"
           }
          ],
          "scattergl": [
           {
            "marker": {
             "colorbar": {
              "outlinewidth": 0,
              "ticks": ""
             }
            },
            "type": "scattergl"
           }
          ],
          "scattermapbox": [
           {
            "marker": {
             "colorbar": {
              "outlinewidth": 0,
              "ticks": ""
             }
            },
            "type": "scattermapbox"
           }
          ],
          "scatterpolar": [
           {
            "marker": {
             "colorbar": {
              "outlinewidth": 0,
              "ticks": ""
             }
            },
            "type": "scatterpolar"
           }
          ],
          "scatterpolargl": [
           {
            "marker": {
             "colorbar": {
              "outlinewidth": 0,
              "ticks": ""
             }
            },
            "type": "scatterpolargl"
           }
          ],
          "scatterternary": [
           {
            "marker": {
             "colorbar": {
              "outlinewidth": 0,
              "ticks": ""
             }
            },
            "type": "scatterternary"
           }
          ],
          "surface": [
           {
            "colorbar": {
             "outlinewidth": 0,
             "ticks": ""
            },
            "colorscale": [
             [
              0,
              "#0d0887"
             ],
             [
              0.1111111111111111,
              "#46039f"
             ],
             [
              0.2222222222222222,
              "#7201a8"
             ],
             [
              0.3333333333333333,
              "#9c179e"
             ],
             [
              0.4444444444444444,
              "#bd3786"
             ],
             [
              0.5555555555555556,
              "#d8576b"
             ],
             [
              0.6666666666666666,
              "#ed7953"
             ],
             [
              0.7777777777777778,
              "#fb9f3a"
             ],
             [
              0.8888888888888888,
              "#fdca26"
             ],
             [
              1,
              "#f0f921"
             ]
            ],
            "type": "surface"
           }
          ],
          "table": [
           {
            "cells": {
             "fill": {
              "color": "#EBF0F8"
             },
             "line": {
              "color": "white"
             }
            },
            "header": {
             "fill": {
              "color": "#C8D4E3"
             },
             "line": {
              "color": "white"
             }
            },
            "type": "table"
           }
          ]
         },
         "layout": {
          "annotationdefaults": {
           "arrowcolor": "#2a3f5f",
           "arrowhead": 0,
           "arrowwidth": 1
          },
          "autotypenumbers": "strict",
          "coloraxis": {
           "colorbar": {
            "outlinewidth": 0,
            "ticks": ""
           }
          },
          "colorscale": {
           "diverging": [
            [
             0,
             "#8e0152"
            ],
            [
             0.1,
             "#c51b7d"
            ],
            [
             0.2,
             "#de77ae"
            ],
            [
             0.3,
             "#f1b6da"
            ],
            [
             0.4,
             "#fde0ef"
            ],
            [
             0.5,
             "#f7f7f7"
            ],
            [
             0.6,
             "#e6f5d0"
            ],
            [
             0.7,
             "#b8e186"
            ],
            [
             0.8,
             "#7fbc41"
            ],
            [
             0.9,
             "#4d9221"
            ],
            [
             1,
             "#276419"
            ]
           ],
           "sequential": [
            [
             0,
             "#0d0887"
            ],
            [
             0.1111111111111111,
             "#46039f"
            ],
            [
             0.2222222222222222,
             "#7201a8"
            ],
            [
             0.3333333333333333,
             "#9c179e"
            ],
            [
             0.4444444444444444,
             "#bd3786"
            ],
            [
             0.5555555555555556,
             "#d8576b"
            ],
            [
             0.6666666666666666,
             "#ed7953"
            ],
            [
             0.7777777777777778,
             "#fb9f3a"
            ],
            [
             0.8888888888888888,
             "#fdca26"
            ],
            [
             1,
             "#f0f921"
            ]
           ],
           "sequentialminus": [
            [
             0,
             "#0d0887"
            ],
            [
             0.1111111111111111,
             "#46039f"
            ],
            [
             0.2222222222222222,
             "#7201a8"
            ],
            [
             0.3333333333333333,
             "#9c179e"
            ],
            [
             0.4444444444444444,
             "#bd3786"
            ],
            [
             0.5555555555555556,
             "#d8576b"
            ],
            [
             0.6666666666666666,
             "#ed7953"
            ],
            [
             0.7777777777777778,
             "#fb9f3a"
            ],
            [
             0.8888888888888888,
             "#fdca26"
            ],
            [
             1,
             "#f0f921"
            ]
           ]
          },
          "colorway": [
           "#636efa",
           "#EF553B",
           "#00cc96",
           "#ab63fa",
           "#FFA15A",
           "#19d3f3",
           "#FF6692",
           "#B6E880",
           "#FF97FF",
           "#FECB52"
          ],
          "font": {
           "color": "#2a3f5f"
          },
          "geo": {
           "bgcolor": "white",
           "lakecolor": "white",
           "landcolor": "#E5ECF6",
           "showlakes": true,
           "showland": true,
           "subunitcolor": "white"
          },
          "hoverlabel": {
           "align": "left"
          },
          "hovermode": "closest",
          "mapbox": {
           "style": "light"
          },
          "paper_bgcolor": "white",
          "plot_bgcolor": "#E5ECF6",
          "polar": {
           "angularaxis": {
            "gridcolor": "white",
            "linecolor": "white",
            "ticks": ""
           },
           "bgcolor": "#E5ECF6",
           "radialaxis": {
            "gridcolor": "white",
            "linecolor": "white",
            "ticks": ""
           }
          },
          "scene": {
           "xaxis": {
            "backgroundcolor": "#E5ECF6",
            "gridcolor": "white",
            "gridwidth": 2,
            "linecolor": "white",
            "showbackground": true,
            "ticks": "",
            "zerolinecolor": "white"
           },
           "yaxis": {
            "backgroundcolor": "#E5ECF6",
            "gridcolor": "white",
            "gridwidth": 2,
            "linecolor": "white",
            "showbackground": true,
            "ticks": "",
            "zerolinecolor": "white"
           },
           "zaxis": {
            "backgroundcolor": "#E5ECF6",
            "gridcolor": "white",
            "gridwidth": 2,
            "linecolor": "white",
            "showbackground": true,
            "ticks": "",
            "zerolinecolor": "white"
           }
          },
          "shapedefaults": {
           "line": {
            "color": "#2a3f5f"
           }
          },
          "ternary": {
           "aaxis": {
            "gridcolor": "white",
            "linecolor": "white",
            "ticks": ""
           },
           "baxis": {
            "gridcolor": "white",
            "linecolor": "white",
            "ticks": ""
           },
           "bgcolor": "#E5ECF6",
           "caxis": {
            "gridcolor": "white",
            "linecolor": "white",
            "ticks": ""
           }
          },
          "title": {
           "x": 0.05
          },
          "xaxis": {
           "automargin": true,
           "gridcolor": "white",
           "linecolor": "white",
           "ticks": "",
           "title": {
            "standoff": 15
           },
           "zerolinecolor": "white",
           "zerolinewidth": 2
          },
          "yaxis": {
           "automargin": true,
           "gridcolor": "white",
           "linecolor": "white",
           "ticks": "",
           "title": {
            "standoff": 15
           },
           "zerolinecolor": "white",
           "zerolinewidth": 2
          }
         }
        },
        "width": 900,
        "xaxis": {
         "anchor": "y",
         "constrain": "domain",
         "domain": [
          0,
          1
         ],
         "scaleanchor": "y"
        },
        "yaxis": {
         "anchor": "x",
         "autorange": "reversed",
         "constrain": "domain",
         "domain": [
          0,
          1
         ]
        }
       }
      },
      "text/html": [
       "<div>                            <div id=\"d72eff5f-d7b3-4603-b342-40678d7cfeac\" class=\"plotly-graph-div\" style=\"height:700px; width:900px;\"></div>            <script type=\"text/javascript\">                require([\"plotly\"], function(Plotly) {                    window.PLOTLYENV=window.PLOTLYENV || {};                                    if (document.getElementById(\"d72eff5f-d7b3-4603-b342-40678d7cfeac\")) {                    Plotly.newPlot(                        \"d72eff5f-d7b3-4603-b342-40678d7cfeac\",                        [{\"coloraxis\":\"coloraxis\",\"name\":\"0\",\"texttemplate\":\"%{z}\",\"x\":[\"Track_Popularity\",\"Explicit\",\"Danceability\",\"Energy\",\"Key\",\"Loudness\",\"Mode\",\"Speechiness\",\"Acousticness\",\"Instrumentalness\",\"Liveness\",\"Valence\",\"Tempo\",\"Duration_Ms\",\"Time_Signature\"],\"y\":[\"Track_Popularity\",\"Explicit\",\"Danceability\",\"Energy\",\"Key\",\"Loudness\",\"Mode\",\"Speechiness\",\"Acousticness\",\"Instrumentalness\",\"Liveness\",\"Valence\",\"Tempo\",\"Duration_Ms\",\"Time_Signature\"],\"z\":[[null,null,null,null,null,null,null,null,null,null,null,null,null,null,null],[0.13,null,null,null,null,null,null,null,null,null,null,null,null,null,null],[0.19,0.1,null,null,null,null,null,null,null,null,null,null,null,null,null],[0.03,0.03,0.06,null,null,null,null,null,null,null,null,null,null,null,null],[0.01,0.01,0.02,0.02,null,null,null,null,null,null,null,null,null,null,null],[0.2,0.08,0.03,0.72,0.01,null,null,null,null,null,null,null,null,null,null],[0.03,0.02,0.05,0.01,0.18,0.02,null,null,null,null,null,null,null,null,null],[0.05,0.24,0.11,0.07,0.02,0.07,0.06,null,null,null,null,null,null,null,null],[0.01,0.02,0.0,0.68,0.01,0.52,0.02,0.03,null,null,null,null,null,null,null],[0.24,0.15,0.07,0.05,0.01,0.34,0.03,0.13,0.0,null,null,null,null,null,null],[0.01,0.04,0.13,0.18,0.01,0.12,0.03,0.07,0.09,0.06,null,null,null,null,null],[0.12,0.05,0.4,0.18,0.02,0.22,0.03,0.02,0.06,0.31,0.01,null,null,null,null],[0.04,0.04,0.16,0.24,0.01,0.18,0.02,0.03,0.2,0.02,0.03,0.02,null,null,null],[0.09,0.08,0.05,0.04,0.02,0.08,0.03,0.07,0.08,0.2,0.01,0.14,0.01,null,null],[0.05,0.04,0.15,0.14,0.01,0.12,0.02,0.02,0.13,0.04,0.0,0.1,0.02,0.0,null]],\"type\":\"heatmap\",\"xaxis\":\"x\",\"yaxis\":\"y\",\"hovertemplate\":\"x: %{x}<br>y: %{y}<br>color: %{z}<extra></extra>\"}],                        {\"template\":{\"data\":{\"histogram2dcontour\":[{\"type\":\"histogram2dcontour\",\"colorbar\":{\"outlinewidth\":0,\"ticks\":\"\"},\"colorscale\":[[0.0,\"#0d0887\"],[0.1111111111111111,\"#46039f\"],[0.2222222222222222,\"#7201a8\"],[0.3333333333333333,\"#9c179e\"],[0.4444444444444444,\"#bd3786\"],[0.5555555555555556,\"#d8576b\"],[0.6666666666666666,\"#ed7953\"],[0.7777777777777778,\"#fb9f3a\"],[0.8888888888888888,\"#fdca26\"],[1.0,\"#f0f921\"]]}],\"choropleth\":[{\"type\":\"choropleth\",\"colorbar\":{\"outlinewidth\":0,\"ticks\":\"\"}}],\"histogram2d\":[{\"type\":\"histogram2d\",\"colorbar\":{\"outlinewidth\":0,\"ticks\":\"\"},\"colorscale\":[[0.0,\"#0d0887\"],[0.1111111111111111,\"#46039f\"],[0.2222222222222222,\"#7201a8\"],[0.3333333333333333,\"#9c179e\"],[0.4444444444444444,\"#bd3786\"],[0.5555555555555556,\"#d8576b\"],[0.6666666666666666,\"#ed7953\"],[0.7777777777777778,\"#fb9f3a\"],[0.8888888888888888,\"#fdca26\"],[1.0,\"#f0f921\"]]}],\"heatmap\":[{\"type\":\"heatmap\",\"colorbar\":{\"outlinewidth\":0,\"ticks\":\"\"},\"colorscale\":[[0.0,\"#0d0887\"],[0.1111111111111111,\"#46039f\"],[0.2222222222222222,\"#7201a8\"],[0.3333333333333333,\"#9c179e\"],[0.4444444444444444,\"#bd3786\"],[0.5555555555555556,\"#d8576b\"],[0.6666666666666666,\"#ed7953\"],[0.7777777777777778,\"#fb9f3a\"],[0.8888888888888888,\"#fdca26\"],[1.0,\"#f0f921\"]]}],\"heatmapgl\":[{\"type\":\"heatmapgl\",\"colorbar\":{\"outlinewidth\":0,\"ticks\":\"\"},\"colorscale\":[[0.0,\"#0d0887\"],[0.1111111111111111,\"#46039f\"],[0.2222222222222222,\"#7201a8\"],[0.3333333333333333,\"#9c179e\"],[0.4444444444444444,\"#bd3786\"],[0.5555555555555556,\"#d8576b\"],[0.6666666666666666,\"#ed7953\"],[0.7777777777777778,\"#fb9f3a\"],[0.8888888888888888,\"#fdca26\"],[1.0,\"#f0f921\"]]}],\"contourcarpet\":[{\"type\":\"contourcarpet\",\"colorbar\":{\"outlinewidth\":0,\"ticks\":\"\"}}],\"contour\":[{\"type\":\"contour\",\"colorbar\":{\"outlinewidth\":0,\"ticks\":\"\"},\"colorscale\":[[0.0,\"#0d0887\"],[0.1111111111111111,\"#46039f\"],[0.2222222222222222,\"#7201a8\"],[0.3333333333333333,\"#9c179e\"],[0.4444444444444444,\"#bd3786\"],[0.5555555555555556,\"#d8576b\"],[0.6666666666666666,\"#ed7953\"],[0.7777777777777778,\"#fb9f3a\"],[0.8888888888888888,\"#fdca26\"],[1.0,\"#f0f921\"]]}],\"surface\":[{\"type\":\"surface\",\"colorbar\":{\"outlinewidth\":0,\"ticks\":\"\"},\"colorscale\":[[0.0,\"#0d0887\"],[0.1111111111111111,\"#46039f\"],[0.2222222222222222,\"#7201a8\"],[0.3333333333333333,\"#9c179e\"],[0.4444444444444444,\"#bd3786\"],[0.5555555555555556,\"#d8576b\"],[0.6666666666666666,\"#ed7953\"],[0.7777777777777778,\"#fb9f3a\"],[0.8888888888888888,\"#fdca26\"],[1.0,\"#f0f921\"]]}],\"mesh3d\":[{\"type\":\"mesh3d\",\"colorbar\":{\"outlinewidth\":0,\"ticks\":\"\"}}],\"scatter\":[{\"fillpattern\":{\"fillmode\":\"overlay\",\"size\":10,\"solidity\":0.2},\"type\":\"scatter\"}],\"parcoords\":[{\"type\":\"parcoords\",\"line\":{\"colorbar\":{\"outlinewidth\":0,\"ticks\":\"\"}}}],\"scatterpolargl\":[{\"type\":\"scatterpolargl\",\"marker\":{\"colorbar\":{\"outlinewidth\":0,\"ticks\":\"\"}}}],\"bar\":[{\"error_x\":{\"color\":\"#2a3f5f\"},\"error_y\":{\"color\":\"#2a3f5f\"},\"marker\":{\"line\":{\"color\":\"#E5ECF6\",\"width\":0.5},\"pattern\":{\"fillmode\":\"overlay\",\"size\":10,\"solidity\":0.2}},\"type\":\"bar\"}],\"scattergeo\":[{\"type\":\"scattergeo\",\"marker\":{\"colorbar\":{\"outlinewidth\":0,\"ticks\":\"\"}}}],\"scatterpolar\":[{\"type\":\"scatterpolar\",\"marker\":{\"colorbar\":{\"outlinewidth\":0,\"ticks\":\"\"}}}],\"histogram\":[{\"marker\":{\"pattern\":{\"fillmode\":\"overlay\",\"size\":10,\"solidity\":0.2}},\"type\":\"histogram\"}],\"scattergl\":[{\"type\":\"scattergl\",\"marker\":{\"colorbar\":{\"outlinewidth\":0,\"ticks\":\"\"}}}],\"scatter3d\":[{\"type\":\"scatter3d\",\"line\":{\"colorbar\":{\"outlinewidth\":0,\"ticks\":\"\"}},\"marker\":{\"colorbar\":{\"outlinewidth\":0,\"ticks\":\"\"}}}],\"scattermapbox\":[{\"type\":\"scattermapbox\",\"marker\":{\"colorbar\":{\"outlinewidth\":0,\"ticks\":\"\"}}}],\"scatterternary\":[{\"type\":\"scatterternary\",\"marker\":{\"colorbar\":{\"outlinewidth\":0,\"ticks\":\"\"}}}],\"scattercarpet\":[{\"type\":\"scattercarpet\",\"marker\":{\"colorbar\":{\"outlinewidth\":0,\"ticks\":\"\"}}}],\"carpet\":[{\"aaxis\":{\"endlinecolor\":\"#2a3f5f\",\"gridcolor\":\"white\",\"linecolor\":\"white\",\"minorgridcolor\":\"white\",\"startlinecolor\":\"#2a3f5f\"},\"baxis\":{\"endlinecolor\":\"#2a3f5f\",\"gridcolor\":\"white\",\"linecolor\":\"white\",\"minorgridcolor\":\"white\",\"startlinecolor\":\"#2a3f5f\"},\"type\":\"carpet\"}],\"table\":[{\"cells\":{\"fill\":{\"color\":\"#EBF0F8\"},\"line\":{\"color\":\"white\"}},\"header\":{\"fill\":{\"color\":\"#C8D4E3\"},\"line\":{\"color\":\"white\"}},\"type\":\"table\"}],\"barpolar\":[{\"marker\":{\"line\":{\"color\":\"#E5ECF6\",\"width\":0.5},\"pattern\":{\"fillmode\":\"overlay\",\"size\":10,\"solidity\":0.2}},\"type\":\"barpolar\"}],\"pie\":[{\"automargin\":true,\"type\":\"pie\"}]},\"layout\":{\"autotypenumbers\":\"strict\",\"colorway\":[\"#636efa\",\"#EF553B\",\"#00cc96\",\"#ab63fa\",\"#FFA15A\",\"#19d3f3\",\"#FF6692\",\"#B6E880\",\"#FF97FF\",\"#FECB52\"],\"font\":{\"color\":\"#2a3f5f\"},\"hovermode\":\"closest\",\"hoverlabel\":{\"align\":\"left\"},\"paper_bgcolor\":\"white\",\"plot_bgcolor\":\"#E5ECF6\",\"polar\":{\"bgcolor\":\"#E5ECF6\",\"angularaxis\":{\"gridcolor\":\"white\",\"linecolor\":\"white\",\"ticks\":\"\"},\"radialaxis\":{\"gridcolor\":\"white\",\"linecolor\":\"white\",\"ticks\":\"\"}},\"ternary\":{\"bgcolor\":\"#E5ECF6\",\"aaxis\":{\"gridcolor\":\"white\",\"linecolor\":\"white\",\"ticks\":\"\"},\"baxis\":{\"gridcolor\":\"white\",\"linecolor\":\"white\",\"ticks\":\"\"},\"caxis\":{\"gridcolor\":\"white\",\"linecolor\":\"white\",\"ticks\":\"\"}},\"coloraxis\":{\"colorbar\":{\"outlinewidth\":0,\"ticks\":\"\"}},\"colorscale\":{\"sequential\":[[0.0,\"#0d0887\"],[0.1111111111111111,\"#46039f\"],[0.2222222222222222,\"#7201a8\"],[0.3333333333333333,\"#9c179e\"],[0.4444444444444444,\"#bd3786\"],[0.5555555555555556,\"#d8576b\"],[0.6666666666666666,\"#ed7953\"],[0.7777777777777778,\"#fb9f3a\"],[0.8888888888888888,\"#fdca26\"],[1.0,\"#f0f921\"]],\"sequentialminus\":[[0.0,\"#0d0887\"],[0.1111111111111111,\"#46039f\"],[0.2222222222222222,\"#7201a8\"],[0.3333333333333333,\"#9c179e\"],[0.4444444444444444,\"#bd3786\"],[0.5555555555555556,\"#d8576b\"],[0.6666666666666666,\"#ed7953\"],[0.7777777777777778,\"#fb9f3a\"],[0.8888888888888888,\"#fdca26\"],[1.0,\"#f0f921\"]],\"diverging\":[[0,\"#8e0152\"],[0.1,\"#c51b7d\"],[0.2,\"#de77ae\"],[0.3,\"#f1b6da\"],[0.4,\"#fde0ef\"],[0.5,\"#f7f7f7\"],[0.6,\"#e6f5d0\"],[0.7,\"#b8e186\"],[0.8,\"#7fbc41\"],[0.9,\"#4d9221\"],[1,\"#276419\"]]},\"xaxis\":{\"gridcolor\":\"white\",\"linecolor\":\"white\",\"ticks\":\"\",\"title\":{\"standoff\":15},\"zerolinecolor\":\"white\",\"automargin\":true,\"zerolinewidth\":2},\"yaxis\":{\"gridcolor\":\"white\",\"linecolor\":\"white\",\"ticks\":\"\",\"title\":{\"standoff\":15},\"zerolinecolor\":\"white\",\"automargin\":true,\"zerolinewidth\":2},\"scene\":{\"xaxis\":{\"backgroundcolor\":\"#E5ECF6\",\"gridcolor\":\"white\",\"linecolor\":\"white\",\"showbackground\":true,\"ticks\":\"\",\"zerolinecolor\":\"white\",\"gridwidth\":2},\"yaxis\":{\"backgroundcolor\":\"#E5ECF6\",\"gridcolor\":\"white\",\"linecolor\":\"white\",\"showbackground\":true,\"ticks\":\"\",\"zerolinecolor\":\"white\",\"gridwidth\":2},\"zaxis\":{\"backgroundcolor\":\"#E5ECF6\",\"gridcolor\":\"white\",\"linecolor\":\"white\",\"showbackground\":true,\"ticks\":\"\",\"zerolinecolor\":\"white\",\"gridwidth\":2}},\"shapedefaults\":{\"line\":{\"color\":\"#2a3f5f\"}},\"annotationdefaults\":{\"arrowcolor\":\"#2a3f5f\",\"arrowhead\":0,\"arrowwidth\":1},\"geo\":{\"bgcolor\":\"white\",\"landcolor\":\"#E5ECF6\",\"subunitcolor\":\"white\",\"showland\":true,\"showlakes\":true,\"lakecolor\":\"white\"},\"title\":{\"x\":0.05},\"mapbox\":{\"style\":\"light\"}}},\"xaxis\":{\"anchor\":\"y\",\"domain\":[0.0,1.0],\"scaleanchor\":\"y\",\"constrain\":\"domain\"},\"yaxis\":{\"anchor\":\"x\",\"domain\":[0.0,1.0],\"autorange\":\"reversed\",\"constrain\":\"domain\"},\"coloraxis\":{\"colorscale\":[[0.0,\"rgb(255,245,240)\"],[0.125,\"rgb(254,224,210)\"],[0.25,\"rgb(252,187,161)\"],[0.375,\"rgb(252,146,114)\"],[0.5,\"rgb(251,106,74)\"],[0.625,\"rgb(239,59,44)\"],[0.75,\"rgb(203,24,29)\"],[0.875,\"rgb(165,15,21)\"],[1.0,\"rgb(103,0,13)\"]]},\"margin\":{\"t\":60},\"width\":900,\"height\":700},                        {\"responsive\": true}                    ).then(function(){\n",
       "                            \n",
       "var gd = document.getElementById('d72eff5f-d7b3-4603-b342-40678d7cfeac');\n",
       "var x = new MutationObserver(function (mutations, observer) {{\n",
       "        var display = window.getComputedStyle(gd).display;\n",
       "        if (!display || display === 'none') {{\n",
       "            console.log([gd, 'removed!']);\n",
       "            Plotly.purge(gd);\n",
       "            observer.disconnect();\n",
       "        }}\n",
       "}});\n",
       "\n",
       "// Listen for the removal of the full notebook cells\n",
       "var notebookContainer = gd.closest('#notebook-container');\n",
       "if (notebookContainer) {{\n",
       "    x.observe(notebookContainer, {childList: true});\n",
       "}}\n",
       "\n",
       "// Listen for the clearing of the current output cell\n",
       "var outputEl = gd.closest('.output');\n",
       "if (outputEl) {{\n",
       "    x.observe(outputEl, {childList: true});\n",
       "}}\n",
       "\n",
       "                        })                };                });            </script>        </div>"
      ]
     },
     "metadata": {},
     "output_type": "display_data"
    }
   ],
   "source": [
    "# Todas las características tienen una correlación poco significativa. Son independientes entre sí\n",
    "fig.show()"
   ]
  },
  {
   "cell_type": "code",
   "execution_count": 21,
   "id": "37cb45bb",
   "metadata": {
    "scrolled": true
   },
   "outputs": [],
   "source": [
    "fig.write_html('../../images/corr.html')"
   ]
  },
  {
   "cell_type": "markdown",
   "id": "b61f3d8a",
   "metadata": {},
   "source": [
    "Creamos vector que defina cada artista en función de las características de su top 10 de canciones"
   ]
  },
  {
   "cell_type": "code",
   "execution_count": 22,
   "id": "ad7699b8",
   "metadata": {},
   "outputs": [
    {
     "data": {
      "text/html": [
       "<div>\n",
       "<style scoped>\n",
       "    .dataframe tbody tr th:only-of-type {\n",
       "        vertical-align: middle;\n",
       "    }\n",
       "\n",
       "    .dataframe tbody tr th {\n",
       "        vertical-align: top;\n",
       "    }\n",
       "\n",
       "    .dataframe thead th {\n",
       "        text-align: right;\n",
       "    }\n",
       "</style>\n",
       "<table border=\"1\" class=\"dataframe\">\n",
       "  <thead>\n",
       "    <tr style=\"text-align: right;\">\n",
       "      <th></th>\n",
       "      <th>Track_Popularity</th>\n",
       "      <th>Explicit</th>\n",
       "      <th>Danceability</th>\n",
       "      <th>Energy</th>\n",
       "      <th>Key</th>\n",
       "      <th>Loudness</th>\n",
       "      <th>Mode</th>\n",
       "      <th>Speechiness</th>\n",
       "      <th>Acousticness</th>\n",
       "      <th>Instrumentalness</th>\n",
       "      <th>Liveness</th>\n",
       "      <th>Valence</th>\n",
       "      <th>Tempo</th>\n",
       "      <th>Duration_Ms</th>\n",
       "      <th>Time_Signature</th>\n",
       "    </tr>\n",
       "    <tr>\n",
       "      <th>Id_Band_Spotify</th>\n",
       "      <th></th>\n",
       "      <th></th>\n",
       "      <th></th>\n",
       "      <th></th>\n",
       "      <th></th>\n",
       "      <th></th>\n",
       "      <th></th>\n",
       "      <th></th>\n",
       "      <th></th>\n",
       "      <th></th>\n",
       "      <th></th>\n",
       "      <th></th>\n",
       "      <th></th>\n",
       "      <th></th>\n",
       "      <th></th>\n",
       "    </tr>\n",
       "  </thead>\n",
       "  <tbody>\n",
       "    <tr>\n",
       "      <th>00a2IOlewyt2Xk4702wg5d</th>\n",
       "      <td>33.6</td>\n",
       "      <td>0.00</td>\n",
       "      <td>0.53040</td>\n",
       "      <td>0.7901</td>\n",
       "      <td>6.0</td>\n",
       "      <td>-5.60560</td>\n",
       "      <td>0.5</td>\n",
       "      <td>0.06823</td>\n",
       "      <td>0.120949</td>\n",
       "      <td>1.042873e-02</td>\n",
       "      <td>0.258580</td>\n",
       "      <td>0.59990</td>\n",
       "      <td>138.86810</td>\n",
       "      <td>193971.6</td>\n",
       "      <td>4.0</td>\n",
       "    </tr>\n",
       "    <tr>\n",
       "      <th>00roEt1HQFQbxivb1eMi2G</th>\n",
       "      <td>4.0</td>\n",
       "      <td>0.25</td>\n",
       "      <td>0.74075</td>\n",
       "      <td>0.7665</td>\n",
       "      <td>6.5</td>\n",
       "      <td>-7.33825</td>\n",
       "      <td>1.0</td>\n",
       "      <td>0.11990</td>\n",
       "      <td>0.153408</td>\n",
       "      <td>1.420000e-02</td>\n",
       "      <td>0.300325</td>\n",
       "      <td>0.85825</td>\n",
       "      <td>99.87575</td>\n",
       "      <td>235387.5</td>\n",
       "      <td>4.0</td>\n",
       "    </tr>\n",
       "    <tr>\n",
       "      <th>01PnN11ovfen6xUOHfNpn3</th>\n",
       "      <td>53.1</td>\n",
       "      <td>0.00</td>\n",
       "      <td>0.57810</td>\n",
       "      <td>0.6441</td>\n",
       "      <td>5.3</td>\n",
       "      <td>-7.45810</td>\n",
       "      <td>0.2</td>\n",
       "      <td>0.07218</td>\n",
       "      <td>0.222690</td>\n",
       "      <td>4.628000e-01</td>\n",
       "      <td>0.174980</td>\n",
       "      <td>0.26286</td>\n",
       "      <td>121.12750</td>\n",
       "      <td>225675.6</td>\n",
       "      <td>4.1</td>\n",
       "    </tr>\n",
       "    <tr>\n",
       "      <th>01m2XZ7m7rAz6KY3scTdaV</th>\n",
       "      <td>57.2</td>\n",
       "      <td>0.30</td>\n",
       "      <td>0.79480</td>\n",
       "      <td>0.7328</td>\n",
       "      <td>3.3</td>\n",
       "      <td>-5.79610</td>\n",
       "      <td>0.7</td>\n",
       "      <td>0.12372</td>\n",
       "      <td>0.254350</td>\n",
       "      <td>5.600000e-07</td>\n",
       "      <td>0.200350</td>\n",
       "      <td>0.61080</td>\n",
       "      <td>123.95320</td>\n",
       "      <td>267808.8</td>\n",
       "      <td>4.0</td>\n",
       "    </tr>\n",
       "    <tr>\n",
       "      <th>01mXk9IDlVczWwZvVHAiIS</th>\n",
       "      <td>36.2</td>\n",
       "      <td>0.00</td>\n",
       "      <td>0.47270</td>\n",
       "      <td>0.3910</td>\n",
       "      <td>4.1</td>\n",
       "      <td>-12.58280</td>\n",
       "      <td>0.7</td>\n",
       "      <td>0.06126</td>\n",
       "      <td>0.595510</td>\n",
       "      <td>6.539400e-01</td>\n",
       "      <td>0.191960</td>\n",
       "      <td>0.38746</td>\n",
       "      <td>111.13590</td>\n",
       "      <td>201580.0</td>\n",
       "      <td>3.4</td>\n",
       "    </tr>\n",
       "    <tr>\n",
       "      <th>020TECbJNvzquIiMMR4jV0</th>\n",
       "      <td>28.5</td>\n",
       "      <td>0.00</td>\n",
       "      <td>0.49650</td>\n",
       "      <td>0.6710</td>\n",
       "      <td>4.5</td>\n",
       "      <td>-7.88250</td>\n",
       "      <td>1.0</td>\n",
       "      <td>0.03235</td>\n",
       "      <td>0.024015</td>\n",
       "      <td>3.558150e-02</td>\n",
       "      <td>0.120500</td>\n",
       "      <td>0.49950</td>\n",
       "      <td>122.03550</td>\n",
       "      <td>244622.5</td>\n",
       "      <td>4.0</td>\n",
       "    </tr>\n",
       "    <tr>\n",
       "      <th>02IFYoziC7CpQRK8fbehUY</th>\n",
       "      <td>42.5</td>\n",
       "      <td>0.20</td>\n",
       "      <td>0.73430</td>\n",
       "      <td>0.8494</td>\n",
       "      <td>6.0</td>\n",
       "      <td>-5.06170</td>\n",
       "      <td>0.4</td>\n",
       "      <td>0.05035</td>\n",
       "      <td>0.187068</td>\n",
       "      <td>4.418100e-05</td>\n",
       "      <td>0.167370</td>\n",
       "      <td>0.93200</td>\n",
       "      <td>141.18260</td>\n",
       "      <td>215874.0</td>\n",
       "      <td>4.0</td>\n",
       "    </tr>\n",
       "    <tr>\n",
       "      <th>02O0CXSVv6T2xh96Fm3kfh</th>\n",
       "      <td>2.8</td>\n",
       "      <td>0.00</td>\n",
       "      <td>0.67940</td>\n",
       "      <td>0.7801</td>\n",
       "      <td>6.7</td>\n",
       "      <td>-7.44180</td>\n",
       "      <td>0.7</td>\n",
       "      <td>0.05578</td>\n",
       "      <td>0.078922</td>\n",
       "      <td>5.611880e-01</td>\n",
       "      <td>0.373620</td>\n",
       "      <td>0.43670</td>\n",
       "      <td>124.19590</td>\n",
       "      <td>319555.9</td>\n",
       "      <td>4.0</td>\n",
       "    </tr>\n",
       "    <tr>\n",
       "      <th>02aqpDfp52Ww8mXwbw90uU</th>\n",
       "      <td>32.4</td>\n",
       "      <td>0.00</td>\n",
       "      <td>0.45800</td>\n",
       "      <td>0.9369</td>\n",
       "      <td>5.9</td>\n",
       "      <td>-4.17620</td>\n",
       "      <td>0.6</td>\n",
       "      <td>0.07104</td>\n",
       "      <td>0.000534</td>\n",
       "      <td>4.067800e-05</td>\n",
       "      <td>0.233640</td>\n",
       "      <td>0.41160</td>\n",
       "      <td>156.34640</td>\n",
       "      <td>302866.5</td>\n",
       "      <td>3.8</td>\n",
       "    </tr>\n",
       "    <tr>\n",
       "      <th>02seUFsFQP7TH4hLrTj77o</th>\n",
       "      <td>60.2</td>\n",
       "      <td>0.00</td>\n",
       "      <td>0.59410</td>\n",
       "      <td>0.6644</td>\n",
       "      <td>5.1</td>\n",
       "      <td>-6.56020</td>\n",
       "      <td>1.0</td>\n",
       "      <td>0.04266</td>\n",
       "      <td>0.208433</td>\n",
       "      <td>4.721645e-02</td>\n",
       "      <td>0.144530</td>\n",
       "      <td>0.60210</td>\n",
       "      <td>116.32890</td>\n",
       "      <td>224127.9</td>\n",
       "      <td>3.9</td>\n",
       "    </tr>\n",
       "  </tbody>\n",
       "</table>\n",
       "</div>"
      ],
      "text/plain": [
       "                        Track_Popularity  Explicit  Danceability  Energy  Key   \n",
       "Id_Band_Spotify                                                                 \n",
       "00a2IOlewyt2Xk4702wg5d              33.6      0.00       0.53040  0.7901  6.0  \\\n",
       "00roEt1HQFQbxivb1eMi2G               4.0      0.25       0.74075  0.7665  6.5   \n",
       "01PnN11ovfen6xUOHfNpn3              53.1      0.00       0.57810  0.6441  5.3   \n",
       "01m2XZ7m7rAz6KY3scTdaV              57.2      0.30       0.79480  0.7328  3.3   \n",
       "01mXk9IDlVczWwZvVHAiIS              36.2      0.00       0.47270  0.3910  4.1   \n",
       "020TECbJNvzquIiMMR4jV0              28.5      0.00       0.49650  0.6710  4.5   \n",
       "02IFYoziC7CpQRK8fbehUY              42.5      0.20       0.73430  0.8494  6.0   \n",
       "02O0CXSVv6T2xh96Fm3kfh               2.8      0.00       0.67940  0.7801  6.7   \n",
       "02aqpDfp52Ww8mXwbw90uU              32.4      0.00       0.45800  0.9369  5.9   \n",
       "02seUFsFQP7TH4hLrTj77o              60.2      0.00       0.59410  0.6644  5.1   \n",
       "\n",
       "                        Loudness  Mode  Speechiness  Acousticness   \n",
       "Id_Band_Spotify                                                     \n",
       "00a2IOlewyt2Xk4702wg5d  -5.60560   0.5      0.06823      0.120949  \\\n",
       "00roEt1HQFQbxivb1eMi2G  -7.33825   1.0      0.11990      0.153408   \n",
       "01PnN11ovfen6xUOHfNpn3  -7.45810   0.2      0.07218      0.222690   \n",
       "01m2XZ7m7rAz6KY3scTdaV  -5.79610   0.7      0.12372      0.254350   \n",
       "01mXk9IDlVczWwZvVHAiIS -12.58280   0.7      0.06126      0.595510   \n",
       "020TECbJNvzquIiMMR4jV0  -7.88250   1.0      0.03235      0.024015   \n",
       "02IFYoziC7CpQRK8fbehUY  -5.06170   0.4      0.05035      0.187068   \n",
       "02O0CXSVv6T2xh96Fm3kfh  -7.44180   0.7      0.05578      0.078922   \n",
       "02aqpDfp52Ww8mXwbw90uU  -4.17620   0.6      0.07104      0.000534   \n",
       "02seUFsFQP7TH4hLrTj77o  -6.56020   1.0      0.04266      0.208433   \n",
       "\n",
       "                        Instrumentalness  Liveness  Valence      Tempo   \n",
       "Id_Band_Spotify                                                          \n",
       "00a2IOlewyt2Xk4702wg5d      1.042873e-02  0.258580  0.59990  138.86810  \\\n",
       "00roEt1HQFQbxivb1eMi2G      1.420000e-02  0.300325  0.85825   99.87575   \n",
       "01PnN11ovfen6xUOHfNpn3      4.628000e-01  0.174980  0.26286  121.12750   \n",
       "01m2XZ7m7rAz6KY3scTdaV      5.600000e-07  0.200350  0.61080  123.95320   \n",
       "01mXk9IDlVczWwZvVHAiIS      6.539400e-01  0.191960  0.38746  111.13590   \n",
       "020TECbJNvzquIiMMR4jV0      3.558150e-02  0.120500  0.49950  122.03550   \n",
       "02IFYoziC7CpQRK8fbehUY      4.418100e-05  0.167370  0.93200  141.18260   \n",
       "02O0CXSVv6T2xh96Fm3kfh      5.611880e-01  0.373620  0.43670  124.19590   \n",
       "02aqpDfp52Ww8mXwbw90uU      4.067800e-05  0.233640  0.41160  156.34640   \n",
       "02seUFsFQP7TH4hLrTj77o      4.721645e-02  0.144530  0.60210  116.32890   \n",
       "\n",
       "                        Duration_Ms  Time_Signature  \n",
       "Id_Band_Spotify                                      \n",
       "00a2IOlewyt2Xk4702wg5d     193971.6             4.0  \n",
       "00roEt1HQFQbxivb1eMi2G     235387.5             4.0  \n",
       "01PnN11ovfen6xUOHfNpn3     225675.6             4.1  \n",
       "01m2XZ7m7rAz6KY3scTdaV     267808.8             4.0  \n",
       "01mXk9IDlVczWwZvVHAiIS     201580.0             3.4  \n",
       "020TECbJNvzquIiMMR4jV0     244622.5             4.0  \n",
       "02IFYoziC7CpQRK8fbehUY     215874.0             4.0  \n",
       "02O0CXSVv6T2xh96Fm3kfh     319555.9             4.0  \n",
       "02aqpDfp52Ww8mXwbw90uU     302866.5             3.8  \n",
       "02seUFsFQP7TH4hLrTj77o     224127.9             3.9  "
      ]
     },
     "execution_count": 22,
     "metadata": {},
     "output_type": "execute_result"
    }
   ],
   "source": [
    "artist_feat = tracks[['Id_Band_Spotify',\n",
    "                      'Track_Popularity',\n",
    "                      'Explicit',\n",
    "                      'Danceability',\n",
    "                      'Energy',\n",
    "                      'Key',\n",
    "                      'Loudness',\n",
    "                      'Mode',\n",
    "                      'Speechiness',\n",
    "                      'Acousticness',\n",
    "                      'Instrumentalness',\n",
    "                      'Liveness',\n",
    "                      'Valence',\n",
    "                      'Tempo',\n",
    "                      'Duration_Ms',\n",
    "                      'Time_Signature']].groupby('Id_Band_Spotify').mean()\n",
    "artist_feat.head(10)"
   ]
  },
  {
   "cell_type": "code",
   "execution_count": 23,
   "id": "0405570f",
   "metadata": {},
   "outputs": [],
   "source": [
    "bands = pd.read_parquet('../../data/bands.parquet')"
   ]
  },
  {
   "cell_type": "code",
   "execution_count": 24,
   "id": "0d6e3fa9",
   "metadata": {},
   "outputs": [
    {
     "data": {
      "text/html": [
       "<div>\n",
       "<style scoped>\n",
       "    .dataframe tbody tr th:only-of-type {\n",
       "        vertical-align: middle;\n",
       "    }\n",
       "\n",
       "    .dataframe tbody tr th {\n",
       "        vertical-align: top;\n",
       "    }\n",
       "\n",
       "    .dataframe thead th {\n",
       "        text-align: right;\n",
       "    }\n",
       "</style>\n",
       "<table border=\"1\" class=\"dataframe\">\n",
       "  <thead>\n",
       "    <tr style=\"text-align: right;\">\n",
       "      <th></th>\n",
       "      <th>Bands</th>\n",
       "      <th>Id_Spotify</th>\n",
       "      <th>Popularity</th>\n",
       "      <th>Image</th>\n",
       "      <th>Url</th>\n",
       "      <th>API_href</th>\n",
       "      <th>API_Uri</th>\n",
       "    </tr>\n",
       "  </thead>\n",
       "  <tbody>\n",
       "    <tr>\n",
       "      <th>0</th>\n",
       "      <td>La Perra Blanco</td>\n",
       "      <td>79tFt6t6vIIoKUOdjj6MsB</td>\n",
       "      <td>18.0</td>\n",
       "      <td>https://i.scdn.co/image/ab676161000051743ee9c1...</td>\n",
       "      <td>https://open.spotify.com/artist/79tFt6t6vIIoKU...</td>\n",
       "      <td>https://api.spotify.com/v1/artists/79tFt6t6vII...</td>\n",
       "      <td>spotify:artist:79tFt6t6vIIoKUOdjj6MsB</td>\n",
       "    </tr>\n",
       "    <tr>\n",
       "      <th>1</th>\n",
       "      <td>Jesse Daniel</td>\n",
       "      <td>69YAYxHfpqcXtsQ8n1pupY</td>\n",
       "      <td>33.0</td>\n",
       "      <td>https://i.scdn.co/image/ab676161000051740b6872...</td>\n",
       "      <td>https://open.spotify.com/artist/69YAYxHfpqcXts...</td>\n",
       "      <td>https://api.spotify.com/v1/artists/69YAYxHfpqc...</td>\n",
       "      <td>spotify:artist:69YAYxHfpqcXtsQ8n1pupY</td>\n",
       "    </tr>\n",
       "    <tr>\n",
       "      <th>2</th>\n",
       "      <td>Tennessee Jet</td>\n",
       "      <td>4J43elh6UdRXtM89al1iiY</td>\n",
       "      <td>30.0</td>\n",
       "      <td>https://i.scdn.co/image/ab67616100005174058fc0...</td>\n",
       "      <td>https://open.spotify.com/artist/4J43elh6UdRXtM...</td>\n",
       "      <td>https://api.spotify.com/v1/artists/4J43elh6UdR...</td>\n",
       "      <td>spotify:artist:4J43elh6UdRXtM89al1iiY</td>\n",
       "    </tr>\n",
       "    <tr>\n",
       "      <th>3</th>\n",
       "      <td>The Beat Farmers</td>\n",
       "      <td>66JcJ2bg4TKlGk2PPqlhgM</td>\n",
       "      <td>28.0</td>\n",
       "      <td>https://i.scdn.co/image/a24bea8c367ef6a6bf511d...</td>\n",
       "      <td>https://open.spotify.com/artist/66JcJ2bg4TKlGk...</td>\n",
       "      <td>https://api.spotify.com/v1/artists/66JcJ2bg4TK...</td>\n",
       "      <td>spotify:artist:66JcJ2bg4TKlGk2PPqlhgM</td>\n",
       "    </tr>\n",
       "    <tr>\n",
       "      <th>4</th>\n",
       "      <td>Red Beard</td>\n",
       "      <td>03ufhL1mZMGBbG5Z0EfrdF</td>\n",
       "      <td>19.0</td>\n",
       "      <td>https://i.scdn.co/image/ab676161000051742d4906...</td>\n",
       "      <td>https://open.spotify.com/artist/03ufhL1mZMGBbG...</td>\n",
       "      <td>https://api.spotify.com/v1/artists/03ufhL1mZMG...</td>\n",
       "      <td>spotify:artist:03ufhL1mZMGBbG5Z0EfrdF</td>\n",
       "    </tr>\n",
       "  </tbody>\n",
       "</table>\n",
       "</div>"
      ],
      "text/plain": [
       "              Bands              Id_Spotify  Popularity   \n",
       "0   La Perra Blanco  79tFt6t6vIIoKUOdjj6MsB        18.0  \\\n",
       "1      Jesse Daniel  69YAYxHfpqcXtsQ8n1pupY        33.0   \n",
       "2     Tennessee Jet  4J43elh6UdRXtM89al1iiY        30.0   \n",
       "3  The Beat Farmers  66JcJ2bg4TKlGk2PPqlhgM        28.0   \n",
       "4         Red Beard  03ufhL1mZMGBbG5Z0EfrdF        19.0   \n",
       "\n",
       "                                               Image   \n",
       "0  https://i.scdn.co/image/ab676161000051743ee9c1...  \\\n",
       "1  https://i.scdn.co/image/ab676161000051740b6872...   \n",
       "2  https://i.scdn.co/image/ab67616100005174058fc0...   \n",
       "3  https://i.scdn.co/image/a24bea8c367ef6a6bf511d...   \n",
       "4  https://i.scdn.co/image/ab676161000051742d4906...   \n",
       "\n",
       "                                                 Url   \n",
       "0  https://open.spotify.com/artist/79tFt6t6vIIoKU...  \\\n",
       "1  https://open.spotify.com/artist/69YAYxHfpqcXts...   \n",
       "2  https://open.spotify.com/artist/4J43elh6UdRXtM...   \n",
       "3  https://open.spotify.com/artist/66JcJ2bg4TKlGk...   \n",
       "4  https://open.spotify.com/artist/03ufhL1mZMGBbG...   \n",
       "\n",
       "                                            API_href   \n",
       "0  https://api.spotify.com/v1/artists/79tFt6t6vII...  \\\n",
       "1  https://api.spotify.com/v1/artists/69YAYxHfpqc...   \n",
       "2  https://api.spotify.com/v1/artists/4J43elh6UdR...   \n",
       "3  https://api.spotify.com/v1/artists/66JcJ2bg4TK...   \n",
       "4  https://api.spotify.com/v1/artists/03ufhL1mZMG...   \n",
       "\n",
       "                                 API_Uri  \n",
       "0  spotify:artist:79tFt6t6vIIoKUOdjj6MsB  \n",
       "1  spotify:artist:69YAYxHfpqcXtsQ8n1pupY  \n",
       "2  spotify:artist:4J43elh6UdRXtM89al1iiY  \n",
       "3  spotify:artist:66JcJ2bg4TKlGk2PPqlhgM  \n",
       "4  spotify:artist:03ufhL1mZMGBbG5Z0EfrdF  "
      ]
     },
     "execution_count": 24,
     "metadata": {},
     "output_type": "execute_result"
    }
   ],
   "source": [
    "bands.head()"
   ]
  },
  {
   "cell_type": "code",
   "execution_count": 25,
   "id": "86297402",
   "metadata": {},
   "outputs": [
    {
     "data": {
      "text/html": [
       "<div>\n",
       "<style scoped>\n",
       "    .dataframe tbody tr th:only-of-type {\n",
       "        vertical-align: middle;\n",
       "    }\n",
       "\n",
       "    .dataframe tbody tr th {\n",
       "        vertical-align: top;\n",
       "    }\n",
       "\n",
       "    .dataframe thead th {\n",
       "        text-align: right;\n",
       "    }\n",
       "</style>\n",
       "<table border=\"1\" class=\"dataframe\">\n",
       "  <thead>\n",
       "    <tr style=\"text-align: right;\">\n",
       "      <th></th>\n",
       "      <th>Track_Popularity</th>\n",
       "      <th>Explicit</th>\n",
       "      <th>Danceability</th>\n",
       "      <th>Energy</th>\n",
       "      <th>Key</th>\n",
       "      <th>Loudness</th>\n",
       "      <th>Mode</th>\n",
       "      <th>Speechiness</th>\n",
       "      <th>Acousticness</th>\n",
       "      <th>Instrumentalness</th>\n",
       "      <th>Liveness</th>\n",
       "      <th>Valence</th>\n",
       "      <th>Tempo</th>\n",
       "      <th>Duration_Ms</th>\n",
       "      <th>Time_Signature</th>\n",
       "    </tr>\n",
       "    <tr>\n",
       "      <th>Id_Band_Spotify</th>\n",
       "      <th></th>\n",
       "      <th></th>\n",
       "      <th></th>\n",
       "      <th></th>\n",
       "      <th></th>\n",
       "      <th></th>\n",
       "      <th></th>\n",
       "      <th></th>\n",
       "      <th></th>\n",
       "      <th></th>\n",
       "      <th></th>\n",
       "      <th></th>\n",
       "      <th></th>\n",
       "      <th></th>\n",
       "      <th></th>\n",
       "    </tr>\n",
       "  </thead>\n",
       "  <tbody>\n",
       "    <tr>\n",
       "      <th>00a2IOlewyt2Xk4702wg5d</th>\n",
       "      <td>33.6</td>\n",
       "      <td>0.00</td>\n",
       "      <td>0.53040</td>\n",
       "      <td>0.7901</td>\n",
       "      <td>6.0</td>\n",
       "      <td>-5.60560</td>\n",
       "      <td>0.5</td>\n",
       "      <td>0.06823</td>\n",
       "      <td>0.120949</td>\n",
       "      <td>1.042873e-02</td>\n",
       "      <td>0.258580</td>\n",
       "      <td>0.59990</td>\n",
       "      <td>138.86810</td>\n",
       "      <td>193971.6</td>\n",
       "      <td>4.0</td>\n",
       "    </tr>\n",
       "    <tr>\n",
       "      <th>00roEt1HQFQbxivb1eMi2G</th>\n",
       "      <td>4.0</td>\n",
       "      <td>0.25</td>\n",
       "      <td>0.74075</td>\n",
       "      <td>0.7665</td>\n",
       "      <td>6.5</td>\n",
       "      <td>-7.33825</td>\n",
       "      <td>1.0</td>\n",
       "      <td>0.11990</td>\n",
       "      <td>0.153408</td>\n",
       "      <td>1.420000e-02</td>\n",
       "      <td>0.300325</td>\n",
       "      <td>0.85825</td>\n",
       "      <td>99.87575</td>\n",
       "      <td>235387.5</td>\n",
       "      <td>4.0</td>\n",
       "    </tr>\n",
       "    <tr>\n",
       "      <th>01PnN11ovfen6xUOHfNpn3</th>\n",
       "      <td>53.1</td>\n",
       "      <td>0.00</td>\n",
       "      <td>0.57810</td>\n",
       "      <td>0.6441</td>\n",
       "      <td>5.3</td>\n",
       "      <td>-7.45810</td>\n",
       "      <td>0.2</td>\n",
       "      <td>0.07218</td>\n",
       "      <td>0.222690</td>\n",
       "      <td>4.628000e-01</td>\n",
       "      <td>0.174980</td>\n",
       "      <td>0.26286</td>\n",
       "      <td>121.12750</td>\n",
       "      <td>225675.6</td>\n",
       "      <td>4.1</td>\n",
       "    </tr>\n",
       "    <tr>\n",
       "      <th>01m2XZ7m7rAz6KY3scTdaV</th>\n",
       "      <td>57.2</td>\n",
       "      <td>0.30</td>\n",
       "      <td>0.79480</td>\n",
       "      <td>0.7328</td>\n",
       "      <td>3.3</td>\n",
       "      <td>-5.79610</td>\n",
       "      <td>0.7</td>\n",
       "      <td>0.12372</td>\n",
       "      <td>0.254350</td>\n",
       "      <td>5.600000e-07</td>\n",
       "      <td>0.200350</td>\n",
       "      <td>0.61080</td>\n",
       "      <td>123.95320</td>\n",
       "      <td>267808.8</td>\n",
       "      <td>4.0</td>\n",
       "    </tr>\n",
       "    <tr>\n",
       "      <th>01mXk9IDlVczWwZvVHAiIS</th>\n",
       "      <td>36.2</td>\n",
       "      <td>0.00</td>\n",
       "      <td>0.47270</td>\n",
       "      <td>0.3910</td>\n",
       "      <td>4.1</td>\n",
       "      <td>-12.58280</td>\n",
       "      <td>0.7</td>\n",
       "      <td>0.06126</td>\n",
       "      <td>0.595510</td>\n",
       "      <td>6.539400e-01</td>\n",
       "      <td>0.191960</td>\n",
       "      <td>0.38746</td>\n",
       "      <td>111.13590</td>\n",
       "      <td>201580.0</td>\n",
       "      <td>3.4</td>\n",
       "    </tr>\n",
       "    <tr>\n",
       "      <th>020TECbJNvzquIiMMR4jV0</th>\n",
       "      <td>28.5</td>\n",
       "      <td>0.00</td>\n",
       "      <td>0.49650</td>\n",
       "      <td>0.6710</td>\n",
       "      <td>4.5</td>\n",
       "      <td>-7.88250</td>\n",
       "      <td>1.0</td>\n",
       "      <td>0.03235</td>\n",
       "      <td>0.024015</td>\n",
       "      <td>3.558150e-02</td>\n",
       "      <td>0.120500</td>\n",
       "      <td>0.49950</td>\n",
       "      <td>122.03550</td>\n",
       "      <td>244622.5</td>\n",
       "      <td>4.0</td>\n",
       "    </tr>\n",
       "    <tr>\n",
       "      <th>02IFYoziC7CpQRK8fbehUY</th>\n",
       "      <td>42.5</td>\n",
       "      <td>0.20</td>\n",
       "      <td>0.73430</td>\n",
       "      <td>0.8494</td>\n",
       "      <td>6.0</td>\n",
       "      <td>-5.06170</td>\n",
       "      <td>0.4</td>\n",
       "      <td>0.05035</td>\n",
       "      <td>0.187068</td>\n",
       "      <td>4.418100e-05</td>\n",
       "      <td>0.167370</td>\n",
       "      <td>0.93200</td>\n",
       "      <td>141.18260</td>\n",
       "      <td>215874.0</td>\n",
       "      <td>4.0</td>\n",
       "    </tr>\n",
       "    <tr>\n",
       "      <th>02O0CXSVv6T2xh96Fm3kfh</th>\n",
       "      <td>2.8</td>\n",
       "      <td>0.00</td>\n",
       "      <td>0.67940</td>\n",
       "      <td>0.7801</td>\n",
       "      <td>6.7</td>\n",
       "      <td>-7.44180</td>\n",
       "      <td>0.7</td>\n",
       "      <td>0.05578</td>\n",
       "      <td>0.078922</td>\n",
       "      <td>5.611880e-01</td>\n",
       "      <td>0.373620</td>\n",
       "      <td>0.43670</td>\n",
       "      <td>124.19590</td>\n",
       "      <td>319555.9</td>\n",
       "      <td>4.0</td>\n",
       "    </tr>\n",
       "    <tr>\n",
       "      <th>02aqpDfp52Ww8mXwbw90uU</th>\n",
       "      <td>32.4</td>\n",
       "      <td>0.00</td>\n",
       "      <td>0.45800</td>\n",
       "      <td>0.9369</td>\n",
       "      <td>5.9</td>\n",
       "      <td>-4.17620</td>\n",
       "      <td>0.6</td>\n",
       "      <td>0.07104</td>\n",
       "      <td>0.000534</td>\n",
       "      <td>4.067800e-05</td>\n",
       "      <td>0.233640</td>\n",
       "      <td>0.41160</td>\n",
       "      <td>156.34640</td>\n",
       "      <td>302866.5</td>\n",
       "      <td>3.8</td>\n",
       "    </tr>\n",
       "    <tr>\n",
       "      <th>02seUFsFQP7TH4hLrTj77o</th>\n",
       "      <td>60.2</td>\n",
       "      <td>0.00</td>\n",
       "      <td>0.59410</td>\n",
       "      <td>0.6644</td>\n",
       "      <td>5.1</td>\n",
       "      <td>-6.56020</td>\n",
       "      <td>1.0</td>\n",
       "      <td>0.04266</td>\n",
       "      <td>0.208433</td>\n",
       "      <td>4.721645e-02</td>\n",
       "      <td>0.144530</td>\n",
       "      <td>0.60210</td>\n",
       "      <td>116.32890</td>\n",
       "      <td>224127.9</td>\n",
       "      <td>3.9</td>\n",
       "    </tr>\n",
       "  </tbody>\n",
       "</table>\n",
       "</div>"
      ],
      "text/plain": [
       "                        Track_Popularity  Explicit  Danceability  Energy  Key   \n",
       "Id_Band_Spotify                                                                 \n",
       "00a2IOlewyt2Xk4702wg5d              33.6      0.00       0.53040  0.7901  6.0  \\\n",
       "00roEt1HQFQbxivb1eMi2G               4.0      0.25       0.74075  0.7665  6.5   \n",
       "01PnN11ovfen6xUOHfNpn3              53.1      0.00       0.57810  0.6441  5.3   \n",
       "01m2XZ7m7rAz6KY3scTdaV              57.2      0.30       0.79480  0.7328  3.3   \n",
       "01mXk9IDlVczWwZvVHAiIS              36.2      0.00       0.47270  0.3910  4.1   \n",
       "020TECbJNvzquIiMMR4jV0              28.5      0.00       0.49650  0.6710  4.5   \n",
       "02IFYoziC7CpQRK8fbehUY              42.5      0.20       0.73430  0.8494  6.0   \n",
       "02O0CXSVv6T2xh96Fm3kfh               2.8      0.00       0.67940  0.7801  6.7   \n",
       "02aqpDfp52Ww8mXwbw90uU              32.4      0.00       0.45800  0.9369  5.9   \n",
       "02seUFsFQP7TH4hLrTj77o              60.2      0.00       0.59410  0.6644  5.1   \n",
       "\n",
       "                        Loudness  Mode  Speechiness  Acousticness   \n",
       "Id_Band_Spotify                                                     \n",
       "00a2IOlewyt2Xk4702wg5d  -5.60560   0.5      0.06823      0.120949  \\\n",
       "00roEt1HQFQbxivb1eMi2G  -7.33825   1.0      0.11990      0.153408   \n",
       "01PnN11ovfen6xUOHfNpn3  -7.45810   0.2      0.07218      0.222690   \n",
       "01m2XZ7m7rAz6KY3scTdaV  -5.79610   0.7      0.12372      0.254350   \n",
       "01mXk9IDlVczWwZvVHAiIS -12.58280   0.7      0.06126      0.595510   \n",
       "020TECbJNvzquIiMMR4jV0  -7.88250   1.0      0.03235      0.024015   \n",
       "02IFYoziC7CpQRK8fbehUY  -5.06170   0.4      0.05035      0.187068   \n",
       "02O0CXSVv6T2xh96Fm3kfh  -7.44180   0.7      0.05578      0.078922   \n",
       "02aqpDfp52Ww8mXwbw90uU  -4.17620   0.6      0.07104      0.000534   \n",
       "02seUFsFQP7TH4hLrTj77o  -6.56020   1.0      0.04266      0.208433   \n",
       "\n",
       "                        Instrumentalness  Liveness  Valence      Tempo   \n",
       "Id_Band_Spotify                                                          \n",
       "00a2IOlewyt2Xk4702wg5d      1.042873e-02  0.258580  0.59990  138.86810  \\\n",
       "00roEt1HQFQbxivb1eMi2G      1.420000e-02  0.300325  0.85825   99.87575   \n",
       "01PnN11ovfen6xUOHfNpn3      4.628000e-01  0.174980  0.26286  121.12750   \n",
       "01m2XZ7m7rAz6KY3scTdaV      5.600000e-07  0.200350  0.61080  123.95320   \n",
       "01mXk9IDlVczWwZvVHAiIS      6.539400e-01  0.191960  0.38746  111.13590   \n",
       "020TECbJNvzquIiMMR4jV0      3.558150e-02  0.120500  0.49950  122.03550   \n",
       "02IFYoziC7CpQRK8fbehUY      4.418100e-05  0.167370  0.93200  141.18260   \n",
       "02O0CXSVv6T2xh96Fm3kfh      5.611880e-01  0.373620  0.43670  124.19590   \n",
       "02aqpDfp52Ww8mXwbw90uU      4.067800e-05  0.233640  0.41160  156.34640   \n",
       "02seUFsFQP7TH4hLrTj77o      4.721645e-02  0.144530  0.60210  116.32890   \n",
       "\n",
       "                        Duration_Ms  Time_Signature  \n",
       "Id_Band_Spotify                                      \n",
       "00a2IOlewyt2Xk4702wg5d     193971.6             4.0  \n",
       "00roEt1HQFQbxivb1eMi2G     235387.5             4.0  \n",
       "01PnN11ovfen6xUOHfNpn3     225675.6             4.1  \n",
       "01m2XZ7m7rAz6KY3scTdaV     267808.8             4.0  \n",
       "01mXk9IDlVczWwZvVHAiIS     201580.0             3.4  \n",
       "020TECbJNvzquIiMMR4jV0     244622.5             4.0  \n",
       "02IFYoziC7CpQRK8fbehUY     215874.0             4.0  \n",
       "02O0CXSVv6T2xh96Fm3kfh     319555.9             4.0  \n",
       "02aqpDfp52Ww8mXwbw90uU     302866.5             3.8  \n",
       "02seUFsFQP7TH4hLrTj77o     224127.9             3.9  "
      ]
     },
     "execution_count": 25,
     "metadata": {},
     "output_type": "execute_result"
    }
   ],
   "source": [
    "artist_feat.head(10)"
   ]
  },
  {
   "cell_type": "code",
   "execution_count": 26,
   "id": "708db86e",
   "metadata": {
    "scrolled": true
   },
   "outputs": [
    {
     "data": {
      "text/plain": [
       "(1589, 15)"
      ]
     },
     "execution_count": 26,
     "metadata": {},
     "output_type": "execute_result"
    }
   ],
   "source": [
    "artist_feat.shape"
   ]
  },
  {
   "cell_type": "code",
   "execution_count": 27,
   "id": "eac142df",
   "metadata": {},
   "outputs": [
    {
     "data": {
      "text/html": [
       "<div>\n",
       "<style scoped>\n",
       "    .dataframe tbody tr th:only-of-type {\n",
       "        vertical-align: middle;\n",
       "    }\n",
       "\n",
       "    .dataframe tbody tr th {\n",
       "        vertical-align: top;\n",
       "    }\n",
       "\n",
       "    .dataframe thead th {\n",
       "        text-align: right;\n",
       "    }\n",
       "</style>\n",
       "<table border=\"1\" class=\"dataframe\">\n",
       "  <thead>\n",
       "    <tr style=\"text-align: right;\">\n",
       "      <th></th>\n",
       "      <th>Track_Popularity</th>\n",
       "      <th>Explicit</th>\n",
       "      <th>Danceability</th>\n",
       "      <th>Energy</th>\n",
       "      <th>Key</th>\n",
       "      <th>Loudness</th>\n",
       "      <th>Mode</th>\n",
       "      <th>Speechiness</th>\n",
       "      <th>Acousticness</th>\n",
       "      <th>Instrumentalness</th>\n",
       "      <th>Liveness</th>\n",
       "      <th>Valence</th>\n",
       "      <th>Tempo</th>\n",
       "      <th>Duration_Ms</th>\n",
       "      <th>Time_Signature</th>\n",
       "      <th>Artist_Popularity</th>\n",
       "    </tr>\n",
       "    <tr>\n",
       "      <th>Id_Band_Spotify</th>\n",
       "      <th></th>\n",
       "      <th></th>\n",
       "      <th></th>\n",
       "      <th></th>\n",
       "      <th></th>\n",
       "      <th></th>\n",
       "      <th></th>\n",
       "      <th></th>\n",
       "      <th></th>\n",
       "      <th></th>\n",
       "      <th></th>\n",
       "      <th></th>\n",
       "      <th></th>\n",
       "      <th></th>\n",
       "      <th></th>\n",
       "      <th></th>\n",
       "    </tr>\n",
       "  </thead>\n",
       "  <tbody>\n",
       "    <tr>\n",
       "      <th>00a2IOlewyt2Xk4702wg5d</th>\n",
       "      <td>33.6</td>\n",
       "      <td>0.00</td>\n",
       "      <td>0.53040</td>\n",
       "      <td>0.7901</td>\n",
       "      <td>6.0</td>\n",
       "      <td>-5.60560</td>\n",
       "      <td>0.5</td>\n",
       "      <td>0.06823</td>\n",
       "      <td>0.120949</td>\n",
       "      <td>1.042873e-02</td>\n",
       "      <td>0.258580</td>\n",
       "      <td>0.59990</td>\n",
       "      <td>138.86810</td>\n",
       "      <td>193971.6</td>\n",
       "      <td>4.0</td>\n",
       "      <td>38</td>\n",
       "    </tr>\n",
       "    <tr>\n",
       "      <th>00roEt1HQFQbxivb1eMi2G</th>\n",
       "      <td>4.0</td>\n",
       "      <td>0.25</td>\n",
       "      <td>0.74075</td>\n",
       "      <td>0.7665</td>\n",
       "      <td>6.5</td>\n",
       "      <td>-7.33825</td>\n",
       "      <td>1.0</td>\n",
       "      <td>0.11990</td>\n",
       "      <td>0.153408</td>\n",
       "      <td>1.420000e-02</td>\n",
       "      <td>0.300325</td>\n",
       "      <td>0.85825</td>\n",
       "      <td>99.87575</td>\n",
       "      <td>235387.5</td>\n",
       "      <td>4.0</td>\n",
       "      <td>3</td>\n",
       "    </tr>\n",
       "    <tr>\n",
       "      <th>01PnN11ovfen6xUOHfNpn3</th>\n",
       "      <td>53.1</td>\n",
       "      <td>0.00</td>\n",
       "      <td>0.57810</td>\n",
       "      <td>0.6441</td>\n",
       "      <td>5.3</td>\n",
       "      <td>-7.45810</td>\n",
       "      <td>0.2</td>\n",
       "      <td>0.07218</td>\n",
       "      <td>0.222690</td>\n",
       "      <td>4.628000e-01</td>\n",
       "      <td>0.174980</td>\n",
       "      <td>0.26286</td>\n",
       "      <td>121.12750</td>\n",
       "      <td>225675.6</td>\n",
       "      <td>4.1</td>\n",
       "      <td>52</td>\n",
       "    </tr>\n",
       "    <tr>\n",
       "      <th>01m2XZ7m7rAz6KY3scTdaV</th>\n",
       "      <td>57.2</td>\n",
       "      <td>0.30</td>\n",
       "      <td>0.79480</td>\n",
       "      <td>0.7328</td>\n",
       "      <td>3.3</td>\n",
       "      <td>-5.79610</td>\n",
       "      <td>0.7</td>\n",
       "      <td>0.12372</td>\n",
       "      <td>0.254350</td>\n",
       "      <td>5.600000e-07</td>\n",
       "      <td>0.200350</td>\n",
       "      <td>0.61080</td>\n",
       "      <td>123.95320</td>\n",
       "      <td>267808.8</td>\n",
       "      <td>4.0</td>\n",
       "      <td>62</td>\n",
       "    </tr>\n",
       "    <tr>\n",
       "      <th>01mXk9IDlVczWwZvVHAiIS</th>\n",
       "      <td>36.2</td>\n",
       "      <td>0.00</td>\n",
       "      <td>0.47270</td>\n",
       "      <td>0.3910</td>\n",
       "      <td>4.1</td>\n",
       "      <td>-12.58280</td>\n",
       "      <td>0.7</td>\n",
       "      <td>0.06126</td>\n",
       "      <td>0.595510</td>\n",
       "      <td>6.539400e-01</td>\n",
       "      <td>0.191960</td>\n",
       "      <td>0.38746</td>\n",
       "      <td>111.13590</td>\n",
       "      <td>201580.0</td>\n",
       "      <td>3.4</td>\n",
       "      <td>38</td>\n",
       "    </tr>\n",
       "    <tr>\n",
       "      <th>020TECbJNvzquIiMMR4jV0</th>\n",
       "      <td>28.5</td>\n",
       "      <td>0.00</td>\n",
       "      <td>0.49650</td>\n",
       "      <td>0.6710</td>\n",
       "      <td>4.5</td>\n",
       "      <td>-7.88250</td>\n",
       "      <td>1.0</td>\n",
       "      <td>0.03235</td>\n",
       "      <td>0.024015</td>\n",
       "      <td>3.558150e-02</td>\n",
       "      <td>0.120500</td>\n",
       "      <td>0.49950</td>\n",
       "      <td>122.03550</td>\n",
       "      <td>244622.5</td>\n",
       "      <td>4.0</td>\n",
       "      <td>16</td>\n",
       "    </tr>\n",
       "    <tr>\n",
       "      <th>02IFYoziC7CpQRK8fbehUY</th>\n",
       "      <td>42.5</td>\n",
       "      <td>0.20</td>\n",
       "      <td>0.73430</td>\n",
       "      <td>0.8494</td>\n",
       "      <td>6.0</td>\n",
       "      <td>-5.06170</td>\n",
       "      <td>0.4</td>\n",
       "      <td>0.05035</td>\n",
       "      <td>0.187068</td>\n",
       "      <td>4.418100e-05</td>\n",
       "      <td>0.167370</td>\n",
       "      <td>0.93200</td>\n",
       "      <td>141.18260</td>\n",
       "      <td>215874.0</td>\n",
       "      <td>4.0</td>\n",
       "      <td>44</td>\n",
       "    </tr>\n",
       "    <tr>\n",
       "      <th>02O0CXSVv6T2xh96Fm3kfh</th>\n",
       "      <td>2.8</td>\n",
       "      <td>0.00</td>\n",
       "      <td>0.67940</td>\n",
       "      <td>0.7801</td>\n",
       "      <td>6.7</td>\n",
       "      <td>-7.44180</td>\n",
       "      <td>0.7</td>\n",
       "      <td>0.05578</td>\n",
       "      <td>0.078922</td>\n",
       "      <td>5.611880e-01</td>\n",
       "      <td>0.373620</td>\n",
       "      <td>0.43670</td>\n",
       "      <td>124.19590</td>\n",
       "      <td>319555.9</td>\n",
       "      <td>4.0</td>\n",
       "      <td>3</td>\n",
       "    </tr>\n",
       "    <tr>\n",
       "      <th>02aqpDfp52Ww8mXwbw90uU</th>\n",
       "      <td>32.4</td>\n",
       "      <td>0.00</td>\n",
       "      <td>0.45800</td>\n",
       "      <td>0.9369</td>\n",
       "      <td>5.9</td>\n",
       "      <td>-4.17620</td>\n",
       "      <td>0.6</td>\n",
       "      <td>0.07104</td>\n",
       "      <td>0.000534</td>\n",
       "      <td>4.067800e-05</td>\n",
       "      <td>0.233640</td>\n",
       "      <td>0.41160</td>\n",
       "      <td>156.34640</td>\n",
       "      <td>302866.5</td>\n",
       "      <td>3.8</td>\n",
       "      <td>34</td>\n",
       "    </tr>\n",
       "    <tr>\n",
       "      <th>02seUFsFQP7TH4hLrTj77o</th>\n",
       "      <td>60.2</td>\n",
       "      <td>0.00</td>\n",
       "      <td>0.59410</td>\n",
       "      <td>0.6644</td>\n",
       "      <td>5.1</td>\n",
       "      <td>-6.56020</td>\n",
       "      <td>1.0</td>\n",
       "      <td>0.04266</td>\n",
       "      <td>0.208433</td>\n",
       "      <td>4.721645e-02</td>\n",
       "      <td>0.144530</td>\n",
       "      <td>0.60210</td>\n",
       "      <td>116.32890</td>\n",
       "      <td>224127.9</td>\n",
       "      <td>3.9</td>\n",
       "      <td>61</td>\n",
       "    </tr>\n",
       "  </tbody>\n",
       "</table>\n",
       "</div>"
      ],
      "text/plain": [
       "                        Track_Popularity  Explicit  Danceability  Energy  Key   \n",
       "Id_Band_Spotify                                                                 \n",
       "00a2IOlewyt2Xk4702wg5d              33.6      0.00       0.53040  0.7901  6.0  \\\n",
       "00roEt1HQFQbxivb1eMi2G               4.0      0.25       0.74075  0.7665  6.5   \n",
       "01PnN11ovfen6xUOHfNpn3              53.1      0.00       0.57810  0.6441  5.3   \n",
       "01m2XZ7m7rAz6KY3scTdaV              57.2      0.30       0.79480  0.7328  3.3   \n",
       "01mXk9IDlVczWwZvVHAiIS              36.2      0.00       0.47270  0.3910  4.1   \n",
       "020TECbJNvzquIiMMR4jV0              28.5      0.00       0.49650  0.6710  4.5   \n",
       "02IFYoziC7CpQRK8fbehUY              42.5      0.20       0.73430  0.8494  6.0   \n",
       "02O0CXSVv6T2xh96Fm3kfh               2.8      0.00       0.67940  0.7801  6.7   \n",
       "02aqpDfp52Ww8mXwbw90uU              32.4      0.00       0.45800  0.9369  5.9   \n",
       "02seUFsFQP7TH4hLrTj77o              60.2      0.00       0.59410  0.6644  5.1   \n",
       "\n",
       "                        Loudness  Mode  Speechiness  Acousticness   \n",
       "Id_Band_Spotify                                                     \n",
       "00a2IOlewyt2Xk4702wg5d  -5.60560   0.5      0.06823      0.120949  \\\n",
       "00roEt1HQFQbxivb1eMi2G  -7.33825   1.0      0.11990      0.153408   \n",
       "01PnN11ovfen6xUOHfNpn3  -7.45810   0.2      0.07218      0.222690   \n",
       "01m2XZ7m7rAz6KY3scTdaV  -5.79610   0.7      0.12372      0.254350   \n",
       "01mXk9IDlVczWwZvVHAiIS -12.58280   0.7      0.06126      0.595510   \n",
       "020TECbJNvzquIiMMR4jV0  -7.88250   1.0      0.03235      0.024015   \n",
       "02IFYoziC7CpQRK8fbehUY  -5.06170   0.4      0.05035      0.187068   \n",
       "02O0CXSVv6T2xh96Fm3kfh  -7.44180   0.7      0.05578      0.078922   \n",
       "02aqpDfp52Ww8mXwbw90uU  -4.17620   0.6      0.07104      0.000534   \n",
       "02seUFsFQP7TH4hLrTj77o  -6.56020   1.0      0.04266      0.208433   \n",
       "\n",
       "                        Instrumentalness  Liveness  Valence      Tempo   \n",
       "Id_Band_Spotify                                                          \n",
       "00a2IOlewyt2Xk4702wg5d      1.042873e-02  0.258580  0.59990  138.86810  \\\n",
       "00roEt1HQFQbxivb1eMi2G      1.420000e-02  0.300325  0.85825   99.87575   \n",
       "01PnN11ovfen6xUOHfNpn3      4.628000e-01  0.174980  0.26286  121.12750   \n",
       "01m2XZ7m7rAz6KY3scTdaV      5.600000e-07  0.200350  0.61080  123.95320   \n",
       "01mXk9IDlVczWwZvVHAiIS      6.539400e-01  0.191960  0.38746  111.13590   \n",
       "020TECbJNvzquIiMMR4jV0      3.558150e-02  0.120500  0.49950  122.03550   \n",
       "02IFYoziC7CpQRK8fbehUY      4.418100e-05  0.167370  0.93200  141.18260   \n",
       "02O0CXSVv6T2xh96Fm3kfh      5.611880e-01  0.373620  0.43670  124.19590   \n",
       "02aqpDfp52Ww8mXwbw90uU      4.067800e-05  0.233640  0.41160  156.34640   \n",
       "02seUFsFQP7TH4hLrTj77o      4.721645e-02  0.144530  0.60210  116.32890   \n",
       "\n",
       "                        Duration_Ms  Time_Signature  Artist_Popularity  \n",
       "Id_Band_Spotify                                                         \n",
       "00a2IOlewyt2Xk4702wg5d     193971.6             4.0                 38  \n",
       "00roEt1HQFQbxivb1eMi2G     235387.5             4.0                  3  \n",
       "01PnN11ovfen6xUOHfNpn3     225675.6             4.1                 52  \n",
       "01m2XZ7m7rAz6KY3scTdaV     267808.8             4.0                 62  \n",
       "01mXk9IDlVczWwZvVHAiIS     201580.0             3.4                 38  \n",
       "020TECbJNvzquIiMMR4jV0     244622.5             4.0                 16  \n",
       "02IFYoziC7CpQRK8fbehUY     215874.0             4.0                 44  \n",
       "02O0CXSVv6T2xh96Fm3kfh     319555.9             4.0                  3  \n",
       "02aqpDfp52Ww8mXwbw90uU     302866.5             3.8                 34  \n",
       "02seUFsFQP7TH4hLrTj77o     224127.9             3.9                 61  "
      ]
     },
     "execution_count": 27,
     "metadata": {},
     "output_type": "execute_result"
    }
   ],
   "source": [
    "artist_feat['Artist_Popularity']=0\n",
    "for row in artist_feat.itertuples():\n",
    "    artist_feat.loc[row.Index,'Artist_Popularity'] = bands[bands.Id_Spotify==row.Index]['Popularity'].values[0]\n",
    "\n",
    "artist_feat.head(10)"
   ]
  },
  {
   "cell_type": "code",
   "execution_count": 29,
   "id": "0cfc6262",
   "metadata": {},
   "outputs": [
    {
     "data": {
      "text/html": [
       "<div>\n",
       "<style scoped>\n",
       "    .dataframe tbody tr th:only-of-type {\n",
       "        vertical-align: middle;\n",
       "    }\n",
       "\n",
       "    .dataframe tbody tr th {\n",
       "        vertical-align: top;\n",
       "    }\n",
       "\n",
       "    .dataframe thead th {\n",
       "        text-align: right;\n",
       "    }\n",
       "</style>\n",
       "<table border=\"1\" class=\"dataframe\">\n",
       "  <thead>\n",
       "    <tr style=\"text-align: right;\">\n",
       "      <th></th>\n",
       "      <th>index</th>\n",
       "      <th>Id_Band_Spotify</th>\n",
       "      <th>Track_Popularity</th>\n",
       "      <th>Explicit</th>\n",
       "      <th>Danceability</th>\n",
       "      <th>Energy</th>\n",
       "      <th>Key</th>\n",
       "      <th>Loudness</th>\n",
       "      <th>Mode</th>\n",
       "      <th>Speechiness</th>\n",
       "      <th>Acousticness</th>\n",
       "      <th>Instrumentalness</th>\n",
       "      <th>Liveness</th>\n",
       "      <th>Valence</th>\n",
       "      <th>Tempo</th>\n",
       "      <th>Duration_Ms</th>\n",
       "      <th>Time_Signature</th>\n",
       "      <th>Artist_Popularity</th>\n",
       "    </tr>\n",
       "  </thead>\n",
       "  <tbody>\n",
       "    <tr>\n",
       "      <th>0</th>\n",
       "      <td>0</td>\n",
       "      <td>00a2IOlewyt2Xk4702wg5d</td>\n",
       "      <td>33.6</td>\n",
       "      <td>0.00</td>\n",
       "      <td>0.53040</td>\n",
       "      <td>0.7901</td>\n",
       "      <td>6.0</td>\n",
       "      <td>-5.60560</td>\n",
       "      <td>0.5</td>\n",
       "      <td>0.06823</td>\n",
       "      <td>0.120949</td>\n",
       "      <td>1.042873e-02</td>\n",
       "      <td>0.258580</td>\n",
       "      <td>0.59990</td>\n",
       "      <td>138.86810</td>\n",
       "      <td>193971.6</td>\n",
       "      <td>4.0</td>\n",
       "      <td>38</td>\n",
       "    </tr>\n",
       "    <tr>\n",
       "      <th>1</th>\n",
       "      <td>1</td>\n",
       "      <td>00roEt1HQFQbxivb1eMi2G</td>\n",
       "      <td>4.0</td>\n",
       "      <td>0.25</td>\n",
       "      <td>0.74075</td>\n",
       "      <td>0.7665</td>\n",
       "      <td>6.5</td>\n",
       "      <td>-7.33825</td>\n",
       "      <td>1.0</td>\n",
       "      <td>0.11990</td>\n",
       "      <td>0.153408</td>\n",
       "      <td>1.420000e-02</td>\n",
       "      <td>0.300325</td>\n",
       "      <td>0.85825</td>\n",
       "      <td>99.87575</td>\n",
       "      <td>235387.5</td>\n",
       "      <td>4.0</td>\n",
       "      <td>3</td>\n",
       "    </tr>\n",
       "    <tr>\n",
       "      <th>2</th>\n",
       "      <td>2</td>\n",
       "      <td>01PnN11ovfen6xUOHfNpn3</td>\n",
       "      <td>53.1</td>\n",
       "      <td>0.00</td>\n",
       "      <td>0.57810</td>\n",
       "      <td>0.6441</td>\n",
       "      <td>5.3</td>\n",
       "      <td>-7.45810</td>\n",
       "      <td>0.2</td>\n",
       "      <td>0.07218</td>\n",
       "      <td>0.222690</td>\n",
       "      <td>4.628000e-01</td>\n",
       "      <td>0.174980</td>\n",
       "      <td>0.26286</td>\n",
       "      <td>121.12750</td>\n",
       "      <td>225675.6</td>\n",
       "      <td>4.1</td>\n",
       "      <td>52</td>\n",
       "    </tr>\n",
       "    <tr>\n",
       "      <th>3</th>\n",
       "      <td>3</td>\n",
       "      <td>01m2XZ7m7rAz6KY3scTdaV</td>\n",
       "      <td>57.2</td>\n",
       "      <td>0.30</td>\n",
       "      <td>0.79480</td>\n",
       "      <td>0.7328</td>\n",
       "      <td>3.3</td>\n",
       "      <td>-5.79610</td>\n",
       "      <td>0.7</td>\n",
       "      <td>0.12372</td>\n",
       "      <td>0.254350</td>\n",
       "      <td>5.600000e-07</td>\n",
       "      <td>0.200350</td>\n",
       "      <td>0.61080</td>\n",
       "      <td>123.95320</td>\n",
       "      <td>267808.8</td>\n",
       "      <td>4.0</td>\n",
       "      <td>62</td>\n",
       "    </tr>\n",
       "    <tr>\n",
       "      <th>4</th>\n",
       "      <td>4</td>\n",
       "      <td>01mXk9IDlVczWwZvVHAiIS</td>\n",
       "      <td>36.2</td>\n",
       "      <td>0.00</td>\n",
       "      <td>0.47270</td>\n",
       "      <td>0.3910</td>\n",
       "      <td>4.1</td>\n",
       "      <td>-12.58280</td>\n",
       "      <td>0.7</td>\n",
       "      <td>0.06126</td>\n",
       "      <td>0.595510</td>\n",
       "      <td>6.539400e-01</td>\n",
       "      <td>0.191960</td>\n",
       "      <td>0.38746</td>\n",
       "      <td>111.13590</td>\n",
       "      <td>201580.0</td>\n",
       "      <td>3.4</td>\n",
       "      <td>38</td>\n",
       "    </tr>\n",
       "  </tbody>\n",
       "</table>\n",
       "</div>"
      ],
      "text/plain": [
       "   index         Id_Band_Spotify  Track_Popularity  Explicit  Danceability   \n",
       "0      0  00a2IOlewyt2Xk4702wg5d              33.6      0.00       0.53040  \\\n",
       "1      1  00roEt1HQFQbxivb1eMi2G               4.0      0.25       0.74075   \n",
       "2      2  01PnN11ovfen6xUOHfNpn3              53.1      0.00       0.57810   \n",
       "3      3  01m2XZ7m7rAz6KY3scTdaV              57.2      0.30       0.79480   \n",
       "4      4  01mXk9IDlVczWwZvVHAiIS              36.2      0.00       0.47270   \n",
       "\n",
       "   Energy  Key  Loudness  Mode  Speechiness  Acousticness  Instrumentalness   \n",
       "0  0.7901  6.0  -5.60560   0.5      0.06823      0.120949      1.042873e-02  \\\n",
       "1  0.7665  6.5  -7.33825   1.0      0.11990      0.153408      1.420000e-02   \n",
       "2  0.6441  5.3  -7.45810   0.2      0.07218      0.222690      4.628000e-01   \n",
       "3  0.7328  3.3  -5.79610   0.7      0.12372      0.254350      5.600000e-07   \n",
       "4  0.3910  4.1 -12.58280   0.7      0.06126      0.595510      6.539400e-01   \n",
       "\n",
       "   Liveness  Valence      Tempo  Duration_Ms  Time_Signature   \n",
       "0  0.258580  0.59990  138.86810     193971.6             4.0  \\\n",
       "1  0.300325  0.85825   99.87575     235387.5             4.0   \n",
       "2  0.174980  0.26286  121.12750     225675.6             4.1   \n",
       "3  0.200350  0.61080  123.95320     267808.8             4.0   \n",
       "4  0.191960  0.38746  111.13590     201580.0             3.4   \n",
       "\n",
       "   Artist_Popularity  \n",
       "0                 38  \n",
       "1                  3  \n",
       "2                 52  \n",
       "3                 62  \n",
       "4                 38  "
      ]
     },
     "execution_count": 29,
     "metadata": {},
     "output_type": "execute_result"
    }
   ],
   "source": [
    "artist_feat = artist_feat.reset_index()\n",
    "artist_feat.head()"
   ]
  },
  {
   "cell_type": "code",
   "execution_count": 30,
   "id": "f1fc0a07",
   "metadata": {},
   "outputs": [],
   "source": [
    "artist_feat.to_parquet('../../data/bands_features.parquet')"
   ]
  },
  {
   "cell_type": "markdown",
   "id": "511d7df3",
   "metadata": {},
   "source": [
    "Repetimos el proceso para los festivales"
   ]
  },
  {
   "cell_type": "code",
   "execution_count": 31,
   "id": "5a134578",
   "metadata": {},
   "outputs": [],
   "source": [
    "fest = pd.read_parquet('../../data/fest.parquet')"
   ]
  },
  {
   "cell_type": "code",
   "execution_count": 32,
   "id": "08cd3cd1",
   "metadata": {},
   "outputs": [
    {
     "name": "stdout",
     "output_type": "stream",
     "text": [
      "(2520, 9)\n"
     ]
    },
    {
     "data": {
      "text/html": [
       "<div>\n",
       "<style scoped>\n",
       "    .dataframe tbody tr th:only-of-type {\n",
       "        vertical-align: middle;\n",
       "    }\n",
       "\n",
       "    .dataframe tbody tr th {\n",
       "        vertical-align: top;\n",
       "    }\n",
       "\n",
       "    .dataframe thead th {\n",
       "        text-align: right;\n",
       "    }\n",
       "</style>\n",
       "<table border=\"1\" class=\"dataframe\">\n",
       "  <thead>\n",
       "    <tr style=\"text-align: right;\">\n",
       "      <th></th>\n",
       "      <th>Id_Fest</th>\n",
       "      <th>Festival</th>\n",
       "      <th>Start_Date</th>\n",
       "      <th>End_Date</th>\n",
       "      <th>Lat</th>\n",
       "      <th>Long</th>\n",
       "      <th>Prov</th>\n",
       "      <th>Bands</th>\n",
       "      <th>Id_Spotify</th>\n",
       "    </tr>\n",
       "  </thead>\n",
       "  <tbody>\n",
       "    <tr>\n",
       "      <th>0</th>\n",
       "      <td>0</td>\n",
       "      <td>17º Ribeira Sacra Festival 2023</td>\n",
       "      <td>2023-07-28</td>\n",
       "      <td>2023-07-30</td>\n",
       "      <td>42.414978</td>\n",
       "      <td>-7.481754</td>\n",
       "      <td>Lugo</td>\n",
       "      <td>La Perra Blanco</td>\n",
       "      <td>79tFt6t6vIIoKUOdjj6MsB</td>\n",
       "    </tr>\n",
       "    <tr>\n",
       "      <th>1</th>\n",
       "      <td>0</td>\n",
       "      <td>17º Ribeira Sacra Festival 2023</td>\n",
       "      <td>2023-07-28</td>\n",
       "      <td>2023-07-30</td>\n",
       "      <td>42.414978</td>\n",
       "      <td>-7.481754</td>\n",
       "      <td>Lugo</td>\n",
       "      <td>Jesse Daniel</td>\n",
       "      <td>69YAYxHfpqcXtsQ8n1pupY</td>\n",
       "    </tr>\n",
       "    <tr>\n",
       "      <th>2</th>\n",
       "      <td>0</td>\n",
       "      <td>17º Ribeira Sacra Festival 2023</td>\n",
       "      <td>2023-07-28</td>\n",
       "      <td>2023-07-30</td>\n",
       "      <td>42.414978</td>\n",
       "      <td>-7.481754</td>\n",
       "      <td>Lugo</td>\n",
       "      <td>Tennessee Jet</td>\n",
       "      <td>4J43elh6UdRXtM89al1iiY</td>\n",
       "    </tr>\n",
       "    <tr>\n",
       "      <th>3</th>\n",
       "      <td>0</td>\n",
       "      <td>17º Ribeira Sacra Festival 2023</td>\n",
       "      <td>2023-07-28</td>\n",
       "      <td>2023-07-30</td>\n",
       "      <td>42.414978</td>\n",
       "      <td>-7.481754</td>\n",
       "      <td>Lugo</td>\n",
       "      <td>The Beat Farmers</td>\n",
       "      <td>66JcJ2bg4TKlGk2PPqlhgM</td>\n",
       "    </tr>\n",
       "    <tr>\n",
       "      <th>4</th>\n",
       "      <td>0</td>\n",
       "      <td>17º Ribeira Sacra Festival 2023</td>\n",
       "      <td>2023-07-28</td>\n",
       "      <td>2023-07-30</td>\n",
       "      <td>42.414978</td>\n",
       "      <td>-7.481754</td>\n",
       "      <td>Lugo</td>\n",
       "      <td>Red Beard</td>\n",
       "      <td>03ufhL1mZMGBbG5Z0EfrdF</td>\n",
       "    </tr>\n",
       "  </tbody>\n",
       "</table>\n",
       "</div>"
      ],
      "text/plain": [
       "   Id_Fest                         Festival Start_Date   End_Date        Lat   \n",
       "0        0  17º Ribeira Sacra Festival 2023 2023-07-28 2023-07-30  42.414978  \\\n",
       "1        0  17º Ribeira Sacra Festival 2023 2023-07-28 2023-07-30  42.414978   \n",
       "2        0  17º Ribeira Sacra Festival 2023 2023-07-28 2023-07-30  42.414978   \n",
       "3        0  17º Ribeira Sacra Festival 2023 2023-07-28 2023-07-30  42.414978   \n",
       "4        0  17º Ribeira Sacra Festival 2023 2023-07-28 2023-07-30  42.414978   \n",
       "\n",
       "       Long  Prov             Bands              Id_Spotify  \n",
       "0 -7.481754  Lugo   La Perra Blanco  79tFt6t6vIIoKUOdjj6MsB  \n",
       "1 -7.481754  Lugo      Jesse Daniel  69YAYxHfpqcXtsQ8n1pupY  \n",
       "2 -7.481754  Lugo     Tennessee Jet  4J43elh6UdRXtM89al1iiY  \n",
       "3 -7.481754  Lugo  The Beat Farmers  66JcJ2bg4TKlGk2PPqlhgM  \n",
       "4 -7.481754  Lugo         Red Beard  03ufhL1mZMGBbG5Z0EfrdF  "
      ]
     },
     "execution_count": 32,
     "metadata": {},
     "output_type": "execute_result"
    }
   ],
   "source": [
    "print(fest.shape)\n",
    "fest.head()"
   ]
  },
  {
   "cell_type": "code",
   "execution_count": 34,
   "id": "3a2a7c2d",
   "metadata": {},
   "outputs": [],
   "source": [
    "fest_feat = fest.merge(artist_feat,left_on='Id_Spotify',right_on='Id_Band_Spotify',how='left')"
   ]
  },
  {
   "cell_type": "code",
   "execution_count": 35,
   "id": "499da34e",
   "metadata": {},
   "outputs": [
    {
     "data": {
      "text/html": [
       "<div>\n",
       "<style scoped>\n",
       "    .dataframe tbody tr th:only-of-type {\n",
       "        vertical-align: middle;\n",
       "    }\n",
       "\n",
       "    .dataframe tbody tr th {\n",
       "        vertical-align: top;\n",
       "    }\n",
       "\n",
       "    .dataframe thead th {\n",
       "        text-align: right;\n",
       "    }\n",
       "</style>\n",
       "<table border=\"1\" class=\"dataframe\">\n",
       "  <thead>\n",
       "    <tr style=\"text-align: right;\">\n",
       "      <th></th>\n",
       "      <th>Id_Fest</th>\n",
       "      <th>Festival</th>\n",
       "      <th>Start_Date</th>\n",
       "      <th>End_Date</th>\n",
       "      <th>Lat</th>\n",
       "      <th>Long</th>\n",
       "      <th>Prov</th>\n",
       "      <th>Bands</th>\n",
       "      <th>Id_Spotify</th>\n",
       "      <th>index</th>\n",
       "      <th>Id_Band_Spotify</th>\n",
       "      <th>Track_Popularity</th>\n",
       "      <th>Explicit</th>\n",
       "      <th>Danceability</th>\n",
       "      <th>Energy</th>\n",
       "      <th>Key</th>\n",
       "      <th>Loudness</th>\n",
       "      <th>Mode</th>\n",
       "      <th>Speechiness</th>\n",
       "      <th>Acousticness</th>\n",
       "      <th>Instrumentalness</th>\n",
       "      <th>Liveness</th>\n",
       "      <th>Valence</th>\n",
       "      <th>Tempo</th>\n",
       "      <th>Duration_Ms</th>\n",
       "      <th>Time_Signature</th>\n",
       "      <th>Artist_Popularity</th>\n",
       "    </tr>\n",
       "  </thead>\n",
       "  <tbody>\n",
       "    <tr>\n",
       "      <th>0</th>\n",
       "      <td>0</td>\n",
       "      <td>17º Ribeira Sacra Festival 2023</td>\n",
       "      <td>2023-07-28</td>\n",
       "      <td>2023-07-30</td>\n",
       "      <td>42.414978</td>\n",
       "      <td>-7.481754</td>\n",
       "      <td>Lugo</td>\n",
       "      <td>La Perra Blanco</td>\n",
       "      <td>79tFt6t6vIIoKUOdjj6MsB</td>\n",
       "      <td>1443</td>\n",
       "      <td>79tFt6t6vIIoKUOdjj6MsB</td>\n",
       "      <td>18.4</td>\n",
       "      <td>0.0</td>\n",
       "      <td>0.4992</td>\n",
       "      <td>0.9031</td>\n",
       "      <td>3.4</td>\n",
       "      <td>-4.2855</td>\n",
       "      <td>0.5</td>\n",
       "      <td>0.05414</td>\n",
       "      <td>0.261378</td>\n",
       "      <td>0.111143</td>\n",
       "      <td>0.13116</td>\n",
       "      <td>0.8303</td>\n",
       "      <td>124.6477</td>\n",
       "      <td>149190.5</td>\n",
       "      <td>3.8</td>\n",
       "      <td>18</td>\n",
       "    </tr>\n",
       "    <tr>\n",
       "      <th>1</th>\n",
       "      <td>0</td>\n",
       "      <td>17º Ribeira Sacra Festival 2023</td>\n",
       "      <td>2023-07-28</td>\n",
       "      <td>2023-07-30</td>\n",
       "      <td>42.414978</td>\n",
       "      <td>-7.481754</td>\n",
       "      <td>Lugo</td>\n",
       "      <td>Jesse Daniel</td>\n",
       "      <td>69YAYxHfpqcXtsQ8n1pupY</td>\n",
       "      <td>1238</td>\n",
       "      <td>69YAYxHfpqcXtsQ8n1pupY</td>\n",
       "      <td>30.3</td>\n",
       "      <td>0.0</td>\n",
       "      <td>0.6246</td>\n",
       "      <td>0.7322</td>\n",
       "      <td>5.9</td>\n",
       "      <td>-6.9951</td>\n",
       "      <td>1.0</td>\n",
       "      <td>0.02981</td>\n",
       "      <td>0.197130</td>\n",
       "      <td>0.007636</td>\n",
       "      <td>0.19707</td>\n",
       "      <td>0.8278</td>\n",
       "      <td>115.2026</td>\n",
       "      <td>214005.0</td>\n",
       "      <td>4.0</td>\n",
       "      <td>33</td>\n",
       "    </tr>\n",
       "    <tr>\n",
       "      <th>2</th>\n",
       "      <td>0</td>\n",
       "      <td>17º Ribeira Sacra Festival 2023</td>\n",
       "      <td>2023-07-28</td>\n",
       "      <td>2023-07-30</td>\n",
       "      <td>42.414978</td>\n",
       "      <td>-7.481754</td>\n",
       "      <td>Lugo</td>\n",
       "      <td>Tennessee Jet</td>\n",
       "      <td>4J43elh6UdRXtM89al1iiY</td>\n",
       "      <td>868</td>\n",
       "      <td>4J43elh6UdRXtM89al1iiY</td>\n",
       "      <td>25.6</td>\n",
       "      <td>0.1</td>\n",
       "      <td>0.5554</td>\n",
       "      <td>0.4654</td>\n",
       "      <td>2.4</td>\n",
       "      <td>-9.5994</td>\n",
       "      <td>0.7</td>\n",
       "      <td>0.03653</td>\n",
       "      <td>0.283651</td>\n",
       "      <td>0.000060</td>\n",
       "      <td>0.14870</td>\n",
       "      <td>0.4844</td>\n",
       "      <td>109.8141</td>\n",
       "      <td>208411.1</td>\n",
       "      <td>4.0</td>\n",
       "      <td>30</td>\n",
       "    </tr>\n",
       "    <tr>\n",
       "      <th>3</th>\n",
       "      <td>0</td>\n",
       "      <td>17º Ribeira Sacra Festival 2023</td>\n",
       "      <td>2023-07-28</td>\n",
       "      <td>2023-07-30</td>\n",
       "      <td>42.414978</td>\n",
       "      <td>-7.481754</td>\n",
       "      <td>Lugo</td>\n",
       "      <td>The Beat Farmers</td>\n",
       "      <td>66JcJ2bg4TKlGk2PPqlhgM</td>\n",
       "      <td>1227</td>\n",
       "      <td>66JcJ2bg4TKlGk2PPqlhgM</td>\n",
       "      <td>20.8</td>\n",
       "      <td>0.0</td>\n",
       "      <td>0.6044</td>\n",
       "      <td>0.8186</td>\n",
       "      <td>6.9</td>\n",
       "      <td>-9.0145</td>\n",
       "      <td>0.7</td>\n",
       "      <td>0.06877</td>\n",
       "      <td>0.145056</td>\n",
       "      <td>0.039079</td>\n",
       "      <td>0.19409</td>\n",
       "      <td>0.7245</td>\n",
       "      <td>140.0547</td>\n",
       "      <td>164293.3</td>\n",
       "      <td>4.0</td>\n",
       "      <td>28</td>\n",
       "    </tr>\n",
       "    <tr>\n",
       "      <th>4</th>\n",
       "      <td>0</td>\n",
       "      <td>17º Ribeira Sacra Festival 2023</td>\n",
       "      <td>2023-07-28</td>\n",
       "      <td>2023-07-30</td>\n",
       "      <td>42.414978</td>\n",
       "      <td>-7.481754</td>\n",
       "      <td>Lugo</td>\n",
       "      <td>Red Beard</td>\n",
       "      <td>03ufhL1mZMGBbG5Z0EfrdF</td>\n",
       "      <td>11</td>\n",
       "      <td>03ufhL1mZMGBbG5Z0EfrdF</td>\n",
       "      <td>13.7</td>\n",
       "      <td>0.0</td>\n",
       "      <td>0.5644</td>\n",
       "      <td>0.6696</td>\n",
       "      <td>5.6</td>\n",
       "      <td>-7.6679</td>\n",
       "      <td>1.0</td>\n",
       "      <td>0.03901</td>\n",
       "      <td>0.150484</td>\n",
       "      <td>0.008752</td>\n",
       "      <td>0.19581</td>\n",
       "      <td>0.6111</td>\n",
       "      <td>128.6017</td>\n",
       "      <td>224251.5</td>\n",
       "      <td>3.9</td>\n",
       "      <td>19</td>\n",
       "    </tr>\n",
       "  </tbody>\n",
       "</table>\n",
       "</div>"
      ],
      "text/plain": [
       "   Id_Fest                         Festival Start_Date   End_Date        Lat   \n",
       "0        0  17º Ribeira Sacra Festival 2023 2023-07-28 2023-07-30  42.414978  \\\n",
       "1        0  17º Ribeira Sacra Festival 2023 2023-07-28 2023-07-30  42.414978   \n",
       "2        0  17º Ribeira Sacra Festival 2023 2023-07-28 2023-07-30  42.414978   \n",
       "3        0  17º Ribeira Sacra Festival 2023 2023-07-28 2023-07-30  42.414978   \n",
       "4        0  17º Ribeira Sacra Festival 2023 2023-07-28 2023-07-30  42.414978   \n",
       "\n",
       "       Long  Prov             Bands              Id_Spotify  index   \n",
       "0 -7.481754  Lugo   La Perra Blanco  79tFt6t6vIIoKUOdjj6MsB   1443  \\\n",
       "1 -7.481754  Lugo      Jesse Daniel  69YAYxHfpqcXtsQ8n1pupY   1238   \n",
       "2 -7.481754  Lugo     Tennessee Jet  4J43elh6UdRXtM89al1iiY    868   \n",
       "3 -7.481754  Lugo  The Beat Farmers  66JcJ2bg4TKlGk2PPqlhgM   1227   \n",
       "4 -7.481754  Lugo         Red Beard  03ufhL1mZMGBbG5Z0EfrdF     11   \n",
       "\n",
       "          Id_Band_Spotify  Track_Popularity  Explicit  Danceability  Energy   \n",
       "0  79tFt6t6vIIoKUOdjj6MsB              18.4       0.0        0.4992  0.9031  \\\n",
       "1  69YAYxHfpqcXtsQ8n1pupY              30.3       0.0        0.6246  0.7322   \n",
       "2  4J43elh6UdRXtM89al1iiY              25.6       0.1        0.5554  0.4654   \n",
       "3  66JcJ2bg4TKlGk2PPqlhgM              20.8       0.0        0.6044  0.8186   \n",
       "4  03ufhL1mZMGBbG5Z0EfrdF              13.7       0.0        0.5644  0.6696   \n",
       "\n",
       "   Key  Loudness  Mode  Speechiness  Acousticness  Instrumentalness  Liveness   \n",
       "0  3.4   -4.2855   0.5      0.05414      0.261378          0.111143   0.13116  \\\n",
       "1  5.9   -6.9951   1.0      0.02981      0.197130          0.007636   0.19707   \n",
       "2  2.4   -9.5994   0.7      0.03653      0.283651          0.000060   0.14870   \n",
       "3  6.9   -9.0145   0.7      0.06877      0.145056          0.039079   0.19409   \n",
       "4  5.6   -7.6679   1.0      0.03901      0.150484          0.008752   0.19581   \n",
       "\n",
       "   Valence     Tempo  Duration_Ms  Time_Signature  Artist_Popularity  \n",
       "0   0.8303  124.6477     149190.5             3.8                 18  \n",
       "1   0.8278  115.2026     214005.0             4.0                 33  \n",
       "2   0.4844  109.8141     208411.1             4.0                 30  \n",
       "3   0.7245  140.0547     164293.3             4.0                 28  \n",
       "4   0.6111  128.6017     224251.5             3.9                 19  "
      ]
     },
     "execution_count": 35,
     "metadata": {},
     "output_type": "execute_result"
    }
   ],
   "source": [
    "fest_feat.head()"
   ]
  },
  {
   "cell_type": "code",
   "execution_count": 37,
   "id": "4947cbfa",
   "metadata": {},
   "outputs": [],
   "source": [
    "fest_feat = pd.concat([fest_feat['Id_Fest'],fest_feat.loc[:,'Track_Popularity':]],axis=1).groupby('Id_Fest',as_index=False).mean()"
   ]
  },
  {
   "cell_type": "code",
   "execution_count": 38,
   "id": "70f38869",
   "metadata": {},
   "outputs": [],
   "source": [
    "fest_feat.to_parquet('../../data/fest_features.parquet')"
   ]
  }
 ],
 "metadata": {
  "kernelspec": {
   "display_name": "Python 3 (ipykernel)",
   "language": "python",
   "name": "python3"
  },
  "language_info": {
   "codemirror_mode": {
    "name": "ipython",
    "version": 3
   },
   "file_extension": ".py",
   "mimetype": "text/x-python",
   "name": "python",
   "nbconvert_exporter": "python",
   "pygments_lexer": "ipython3",
   "version": "3.11.3"
  },
  "varInspector": {
   "cols": {
    "lenName": 16,
    "lenType": 16,
    "lenVar": 40
   },
   "kernels_config": {
    "python": {
     "delete_cmd_postfix": "",
     "delete_cmd_prefix": "del ",
     "library": "var_list.py",
     "varRefreshCmd": "print(var_dic_list())"
    },
    "r": {
     "delete_cmd_postfix": ") ",
     "delete_cmd_prefix": "rm(",
     "library": "var_list.r",
     "varRefreshCmd": "cat(var_dic_list()) "
    }
   },
   "types_to_exclude": [
    "module",
    "function",
    "builtin_function_or_method",
    "instance",
    "_Feature"
   ],
   "window_display": false
  }
 },
 "nbformat": 4,
 "nbformat_minor": 5
}
